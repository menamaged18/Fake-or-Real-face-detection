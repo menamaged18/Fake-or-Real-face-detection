{
 "cells": [
  {
   "cell_type": "markdown",
   "id": "53ce1254-56f1-4853-b93d-a0cd1b8bfd7d",
   "metadata": {},
   "source": [
    "Project Phase 2:\n",
    "- Implement Transfer learning using all the pretrained models (vgg16, resnet-50, densenet121, mobilenet, inception, …) - we will take them\n",
    "- ⁠record the performance measures\n",
    "- ⁠Fine tune each of the previous model by fine tuning the final 2 or more convolutional layers\n",
    "- ⁠record the performance measures and choose the best.\n",
    "- ⁠add one more convolutional layer to the model and fine tune it.\n",
    "- ⁠record the results performance should be getting better\n",
    "- ⁠apply pretrained vision transformer on your dataset\n",
    "- ⁠record the performance\n",
    "- outputs to be delivered: \n",
    "\n",
    "1- the code of all implementations\n",
    "\n",
    "2- report explaining the problem, dataset description, how cross validation is done, any preprocessing done +\n",
    "explaining what is done in each step and all the recorded performance measures\n",
    "\n",
    "3- conclusion of which architecture and learning resulted in the best performance"
   ]
  },
  {
   "cell_type": "markdown",
   "id": "d6fe8345-80a1-495a-ba01-328fce56da8b",
   "metadata": {},
   "source": [
    "# importing libraries needed"
   ]
  },
  {
   "cell_type": "code",
   "execution_count": 1,
   "id": "56ccd631-5e24-4dce-a319-cd4c87f06226",
   "metadata": {},
   "outputs": [],
   "source": [
    "import os\n",
    "import torch\n",
    "import numpy as np\n",
    "import optuna\n",
    "from torchvision import datasets, transforms, models\n",
    "from sklearn.model_selection import KFold\n",
    "from torch.utils.data import DataLoader, Subset, random_split\n",
    "from torch.optim import Adam\n",
    "from sklearn.metrics import confusion_matrix, accuracy_score, precision_score, recall_score, f1_score\n",
    "from tqdm import tqdm\n",
    "from sklearn.decomposition import PCA"
   ]
  },
  {
   "cell_type": "code",
   "execution_count": 2,
   "id": "fb4f711b-c5ea-43bf-90ea-26606ea8fde8",
   "metadata": {},
   "outputs": [
    {
     "data": {
      "text/plain": [
       "<torch._C.Generator at 0x2aadb7545f0>"
      ]
     },
     "execution_count": 2,
     "metadata": {},
     "output_type": "execute_result"
    }
   ],
   "source": [
    "# to get the same results every time we run\n",
    "torch.manual_seed(42) # Setting the seed"
   ]
  },
  {
   "cell_type": "code",
   "execution_count": 3,
   "id": "ceb3b27e-afa6-47a7-b580-9260048063e7",
   "metadata": {},
   "outputs": [
    {
     "name": "stdout",
     "output_type": "stream",
     "text": [
      "Device cuda\n"
     ]
    }
   ],
   "source": [
    "device = torch.device(\"cuda\") if torch.cuda.is_available() else torch.device(\"cpu\")\n",
    "print(\"Device\", device)"
   ]
  },
  {
   "cell_type": "markdown",
   "id": "d0f44fbf-a00b-44c9-b1dd-0d74a38f0320",
   "metadata": {},
   "source": [
    "# load the data"
   ]
  },
  {
   "cell_type": "code",
   "execution_count": 4,
   "id": "ea66c749-ff96-44cd-9e59-0459574db1aa",
   "metadata": {},
   "outputs": [
    {
     "name": "stdout",
     "output_type": "stream",
     "text": [
      "dataset len: 10000\n",
      "Number of classes: 2\n"
     ]
    }
   ],
   "source": [
    "transform = transforms.Compose([\n",
    "    transforms.Resize((224, 224)),\n",
    "    transforms.ToTensor(),\n",
    "    transforms.Normalize([0.485, 0.456, 0.406], [0.229, 0.224, 0.225])\n",
    "])\n",
    "\n",
    "dataset = datasets.ImageFolder(root='dataset', transform=transform)\n",
    "print(f\"dataset len: {len(dataset)}\")\n",
    "print(f\"Number of classes: {len(dataset.classes)}\")"
   ]
  },
  {
   "cell_type": "code",
   "execution_count": 5,
   "id": "b29e7d18-f7a3-43c9-bc5f-4001afc85220",
   "metadata": {},
   "outputs": [
    {
     "name": "stdout",
     "output_type": "stream",
     "text": [
      "dataset len: 5000\n"
     ]
    }
   ],
   "source": [
    "# Extract image data\n",
    "# #image_data = []\n",
    "# for image, _ in dataset:\n",
    "#    image_data.append(image.numpy().flatten()) \n",
    "# # Apply PCA\n",
    "# pca = PCA(n_components=0.95)  # Keep 95% of the variance\n",
    "# pca.fit(image_data)\n",
    "# reduced_data = pca.transform(image_data) # memory error \n",
    "# print(\"Number of principal components:\", pca.n_components_) \n",
    "\n",
    "# Split the dataset in half to have faster results\n",
    "half_dataset_size = len(dataset) // 2\n",
    "first_half_dataset, _ = torch.utils.data.random_split(dataset, [half_dataset_size, half_dataset_size])\n",
    "print(f\"dataset len: {len(first_half_dataset)}\")\n",
    "## Extract image data from the half\n",
    "#image_data = []\n",
    "#for image, _ in first_half_dataset:\n",
    "#    image_data.append(image.numpy().flatten()) \n",
    "\n",
    "## Apply PCA\n",
    "# pca = PCA(n_components=0.95)  # Keep 95% of the variance\n",
    "# pca.fit(image_data)\n",
    "# reduced_data = pca.transform(image_data) # memory error\n",
    "# print(\"Number of principal components:\", pca.n_components_) "
   ]
  },
  {
   "cell_type": "code",
   "execution_count": 6,
   "id": "a144cd75-c740-4256-9dcc-9f8cb88bb9e0",
   "metadata": {},
   "outputs": [
    {
     "name": "stdout",
     "output_type": "stream",
     "text": [
      "Train len: 4000\n",
      "Validation len: 1024\n"
     ]
    }
   ],
   "source": [
    "# Split the dataset into training and validation sets\n",
    "train_size_reduced = int(0.8 * len(first_half_dataset))  # 80% training\n",
    "val_size_reduced = len(first_half_dataset) - train_size_reduced  # 20% validation\n",
    "train_dataset_reduced, val_dataset_reduced = random_split(first_half_dataset, [train_size_reduced, val_size_reduced])\n",
    "\n",
    "train_loader_reduced = DataLoader(train_dataset_reduced, batch_size=32, shuffle=True)\n",
    "val_loader_reduced = DataLoader(val_dataset_reduced, batch_size=32, shuffle=False)\n",
    "\n",
    "print(f\"Train len: {len(train_loader_reduced) * 32}\")\n",
    "print(f\"Validation len: {len(val_loader_reduced) * 32}\")"
   ]
  },
  {
   "cell_type": "markdown",
   "id": "143b0b1e-dbae-4b74-84e9-3567d666d9b2",
   "metadata": {},
   "source": [
    "# TPE (Tree-structured Parzen Estimator) search to choose best lr for our models"
   ]
  },
  {
   "cell_type": "markdown",
   "id": "315cbade-15de-46d2-a053-e62b61f86b9b",
   "metadata": {},
   "source": [
    "## helper function to evaluate the model"
   ]
  },
  {
   "cell_type": "code",
   "execution_count": 7,
   "id": "4aeeedb2-127b-4684-8cbe-4542a84e57f5",
   "metadata": {},
   "outputs": [],
   "source": [
    "import torch\n",
    "import torch.nn as nn\n",
    "from torchvision.models import vgg16, resnet50, densenet121, mobilenet_v2\n",
    "from torchvision.models import VGG16_Weights, ResNet50_Weights, DenseNet121_Weights, MobileNet_V2_Weights"
   ]
  },
  {
   "cell_type": "code",
   "execution_count": 8,
   "id": "8ff686c9-ec76-4b1b-bb23-b92b2bfaa0b8",
   "metadata": {},
   "outputs": [],
   "source": [
    "our_models = [\"VGG16\", \"ResNet-50\", \"DenseNet121\", \"MobileNet\"]\n",
    "\n",
    "def initialize_model(model_name, num_classes):\n",
    "    if model_name == \"VGG16\":\n",
    "        model = vgg16(weights=VGG16_Weights.DEFAULT)  # Load the most up-to-date weights for VGG16\n",
    "        for param in model.parameters():\n",
    "            param.requires_grad = False\n",
    "        num_ftrs = model.classifier[6].in_features\n",
    "        model.classifier[6] = nn.Linear(num_ftrs, num_classes)\n",
    "    elif model_name == \"ResNet-50\":\n",
    "        model = resnet50(weights=ResNet50_Weights.DEFAULT)  # Load the most up-to-date weights for ResNet-50\n",
    "        for param in model.parameters():\n",
    "            param.requires_grad = False\n",
    "        num_ftrs = model.fc.in_features\n",
    "        model.fc = nn.Linear(num_ftrs, num_classes)\n",
    "    elif model_name == \"DenseNet121\":\n",
    "        model = densenet121(weights=DenseNet121_Weights.DEFAULT)  # Load the most up-to-date weights for DenseNet121\n",
    "        for param in model.parameters():\n",
    "            param.requires_grad = False\n",
    "        num_ftrs = model.classifier.in_features\n",
    "        model.classifier = nn.Linear(num_ftrs, num_classes)\n",
    "    elif model_name == \"MobileNet\":\n",
    "        model = mobilenet_v2(weights=MobileNet_V2_Weights.DEFAULT)  # Load the most up-to-date weights for MobileNet\n",
    "        for param in model.parameters():\n",
    "            param.requires_grad = False\n",
    "        num_ftrs = model.last_channel\n",
    "        model.classifier[1] = nn.Linear(num_ftrs, num_classes)\n",
    "    else:\n",
    "        print(f\"Error: Model '{model_name}' not supported.\")\n",
    "        return None\n",
    "\n",
    "    return model"
   ]
  },
  {
   "cell_type": "code",
   "execution_count": 14,
   "id": "924385b5-0012-4ac6-9f02-3486b5e47b03",
   "metadata": {},
   "outputs": [],
   "source": [
    "def train_model(model, train_loader, val_loader, lr, num_epoch=2):\n",
    "    criterion = torch.nn.CrossEntropyLoss()\n",
    "    optimizer = Adam(model.parameters(), lr=lr)\n",
    "    device = torch.device('cuda' if torch.cuda.is_available() else 'cpu')\n",
    "    model.to(device)\n",
    "    \n",
    "    model.train()\n",
    "    for epoch in range(num_epoch):  \n",
    "        for inputs, labels in train_loader:\n",
    "            inputs, labels = inputs.to(device), labels.to(device)\n",
    "            optimizer.zero_grad()\n",
    "            outputs = model(inputs)\n",
    "            loss = criterion(outputs, labels)\n",
    "            loss.backward()\n",
    "            optimizer.step()\n",
    "\n",
    "    model.eval()\n",
    "    correct = 0\n",
    "    total = 0\n",
    "    with torch.no_grad():\n",
    "        total_loss = 0.0 \n",
    "        for inputs, labels in val_loader:\n",
    "            inputs, labels = inputs.to(device), labels.to(device)\n",
    "            outputs = model(inputs)\n",
    "            loss = criterion(outputs, labels)\n",
    "            total_loss += loss.item()\n",
    "        val_loss = total_loss / len(val_loader_reduced)\n",
    "\n",
    "    return val_loss"
   ]
  },
  {
   "cell_type": "code",
   "execution_count": 10,
   "id": "2f6e9087-d6b1-4165-81fb-96f1d18e1d39",
   "metadata": {},
   "outputs": [],
   "source": [
    "from hyperopt import fmin, tpe, hp"
   ]
  },
  {
   "cell_type": "code",
   "execution_count": 15,
   "id": "97ad895d-3006-4686-9b77-cef9c3895125",
   "metadata": {},
   "outputs": [
    {
     "name": "stdout",
     "output_type": "stream",
     "text": [
      "100%|██████████████████████████████████████████████████| 5/5 [04:02<00:00, 48.46s/trial, best loss: 0.3749630614183843]\n",
      "Best hyperparameters: {'lr': 0.003001253154810488}\n"
     ]
    }
   ],
   "source": [
    "def objective(params):\n",
    "    lr = params['lr']\n",
    "\n",
    "    # Create the model\n",
    "    model = resnet50(weights=ResNet50_Weights.DEFAULT)\n",
    "    for param in model.parameters():\n",
    "        param.requires_grad = False\n",
    "    num_ftrs = model.fc.in_features\n",
    "    num_classes = len(dataset.classes)\n",
    "    model.fc = nn.Linear(num_ftrs, num_classes)\n",
    "\n",
    "    val_loss = train_model(model, train_loader_reduced, val_loader_reduced, lr, num_epoch=2)\n",
    "    \n",
    "    return val_loss # Returns:Loss value on the validation set.\n",
    "\n",
    "\n",
    "# Define the search space for hyperopt\n",
    "space = {\n",
    "    'lr': hp.loguniform('lr', np.log(1e-5), np.log(1e-2))  # Search learning rate logarithmically\n",
    "}\n",
    "\n",
    "# Run hyperopt optimization\n",
    "best = fmin(fn=objective,\n",
    "           space=space,\n",
    "           algo=tpe.suggest,\n",
    "           max_evals=5)  \n",
    "\n",
    "# Print the best hyperparameters\n",
    "print(\"Best hyperparameters:\", best)"
   ]
  },
  {
   "cell_type": "code",
   "execution_count": 15,
   "id": "0df93d4c-cd74-4157-8772-81df7a07fb29",
   "metadata": {},
   "outputs": [
    {
     "name": "stdout",
     "output_type": "stream",
     "text": [
      "100%|█████████████████████████████████████████████████| 5/5 [17:06<00:00, 205.35s/trial, best loss: 0.6023138957098126]\n",
      "Best hyperparameters for VGG16: {'lr': 8.440453952880984e-05}\n",
      "100%|██████████████████████████████████████████████████| 5/5 [04:09<00:00, 49.97s/trial, best loss: 0.4203595481812954]\n",
      "Best hyperparameters for ResNet-50: {'lr': 0.0012807139284544634}\n",
      "100%|██████████████████████████████████████████████████| 5/5 [04:18<00:00, 51.68s/trial, best loss: 0.5145052392035723]\n",
      "Best hyperparameters for DenseNet121: {'lr': 0.0004112928002730808}\n",
      "  0%|                                                                            | 0/5 [00:00<?, ?trial/s, best loss=?]"
     ]
    },
    {
     "name": "stderr",
     "output_type": "stream",
     "text": [
      "Downloading: \"https://download.pytorch.org/models/mobilenet_v2-7ebf99e0.pth\" to C:\\Users\\menam/.cache\\torch\\hub\\checkpoints\\mobilenet_v2-7ebf99e0.pth\n",
      "\n",
      "  0%|                                                                                      | 0.00/13.6M [00:00<?, ?B/s]\n",
      "\u001b[A\n",
      "  3%|##1                                                                           | 384k/13.6M [00:00<00:03, 3.49MB/s]\n",
      "\u001b[A\n",
      "  6%|####3                                                                         | 768k/13.6M [00:00<00:03, 3.68MB/s]\n",
      "\u001b[A\n",
      "  8%|######3                                                                      | 1.12M/13.6M [00:00<00:03, 3.77MB/s]\n",
      "\u001b[A\n",
      " 12%|#########2                                                                   | 1.62M/13.6M [00:00<00:03, 3.84MB/s]\n",
      "\u001b[A\n",
      " 15%|###########3                                                                 | 2.00M/13.6M [00:00<00:03, 3.30MB/s]\n",
      "\u001b[A\n",
      " 17%|#############4                                                               | 2.38M/13.6M [00:00<00:03, 3.25MB/s]\n",
      "\u001b[A\n",
      " 20%|###############5                                                             | 2.75M/13.6M [00:00<00:03, 2.85MB/s]\n",
      "\u001b[A\n",
      " 23%|#################6                                                           | 3.12M/13.6M [00:01<00:04, 2.57MB/s]\n",
      "\u001b[A\n",
      " 26%|###################8                                                         | 3.50M/13.6M [00:01<00:03, 2.67MB/s]\n",
      "\u001b[A\n",
      " 28%|#####################9                                                       | 3.88M/13.6M [00:01<00:03, 2.92MB/s]\n",
      "\u001b[A\n",
      " 31%|########################                                                     | 4.25M/13.6M [00:01<00:03, 3.14MB/s]\n",
      "\u001b[A\n",
      " 34%|##########################1                                                  | 4.62M/13.6M [00:01<00:02, 3.32MB/s]\n",
      "\u001b[A\n",
      " 37%|############################3                                                | 5.00M/13.6M [00:01<00:03, 2.98MB/s]\n",
      "\u001b[A\n",
      " 40%|##############################4                                              | 5.38M/13.6M [00:01<00:03, 2.81MB/s]\n",
      "\u001b[A\n",
      " 42%|################################5                                            | 5.75M/13.6M [00:02<00:03, 2.67MB/s]\n",
      "\u001b[A\n",
      " 45%|##################################6                                          | 6.12M/13.6M [00:02<00:03, 2.39MB/s]\n",
      "\u001b[A\n",
      " 47%|####################################                                         | 6.38M/13.6M [00:02<00:03, 2.33MB/s]\n",
      "\u001b[A\n",
      " 50%|######################################2                                      | 6.75M/13.6M [00:02<00:02, 2.62MB/s]\n",
      "\u001b[A\n",
      " 52%|########################################3                                    | 7.12M/13.6M [00:02<00:02, 2.83MB/s]\n",
      "\u001b[A\n",
      " 55%|##########################################4                                  | 7.50M/13.6M [00:02<00:02, 3.00MB/s]\n",
      "\u001b[A\n",
      " 58%|############################################5                                | 7.88M/13.6M [00:02<00:01, 3.20MB/s]\n",
      "\u001b[A\n",
      " 61%|##############################################7                              | 8.25M/13.6M [00:02<00:01, 3.15MB/s]\n",
      "\u001b[A\n",
      " 63%|################################################8                            | 8.62M/13.6M [00:03<00:01, 3.31MB/s]\n",
      "\u001b[A\n",
      " 66%|##################################################9                          | 9.00M/13.6M [00:03<00:01, 3.40MB/s]\n",
      "\u001b[A\n",
      " 69%|#####################################################                        | 9.38M/13.6M [00:03<00:01, 3.50MB/s]\n",
      "\u001b[A\n",
      " 72%|#######################################################2                     | 9.75M/13.6M [00:03<00:01, 3.55MB/s]\n",
      "\u001b[A\n",
      " 74%|#########################################################3                   | 10.1M/13.6M [00:03<00:01, 3.60MB/s]\n",
      "\u001b[A\n",
      " 77%|###########################################################4                 | 10.5M/13.6M [00:03<00:00, 3.64MB/s]\n",
      "\u001b[A\n",
      " 80%|#############################################################5               | 10.9M/13.6M [00:03<00:00, 3.68MB/s]\n",
      "\u001b[A\n",
      " 83%|###############################################################7             | 11.2M/13.6M [00:03<00:00, 3.71MB/s]\n",
      "\u001b[A\n",
      " 85%|#################################################################8           | 11.6M/13.6M [00:03<00:00, 3.70MB/s]\n",
      "\u001b[A\n",
      " 88%|###################################################################9         | 12.0M/13.6M [00:03<00:00, 3.73MB/s]\n",
      "\u001b[A\n",
      " 91%|######################################################################       | 12.4M/13.6M [00:04<00:00, 3.73MB/s]\n",
      "\u001b[A\n",
      " 94%|########################################################################1    | 12.8M/13.6M [00:04<00:00, 3.73MB/s]\n",
      "\u001b[A\n",
      " 97%|##########################################################################3  | 13.1M/13.6M [00:04<00:00, 3.74MB/s]\n",
      "\u001b[A\n",
      " 99%|############################################################################4| 13.5M/13.6M [00:04<00:00, 3.73MB/s]\n",
      "\u001b[A\n",
      "100%|#############################################################################| 13.6M/13.6M [00:04<00:00, 3.22MB/s]\n"
     ]
    },
    {
     "name": "stdout",
     "output_type": "stream",
     "text": [
      "100%|█████████████████████████████████████████████████| 5/5 [02:27<00:00, 29.55s/trial, best loss: 0.45707301516085863]\n",
      "Best hyperparameters for MobileNet: {'lr': 0.0017952256762670846}\n"
     ]
    }
   ],
   "source": [
    "def objective(params, _model):\n",
    "    lr = params['lr']\n",
    "\n",
    "    # Create the model\n",
    "    num_classes = len(dataset.classes)\n",
    "    model = initialize_model(_model, num_classes)\n",
    "    val_loss = train_model(model, train_loader_reduced, val_loader_reduced, lr, num_epoch=2)\n",
    "    \n",
    "    return val_loss  # Returns: Loss value on the validation set.\n",
    "\n",
    "models_best_params = {}\n",
    "for model in our_models:\n",
    "    # Define the search space for hyperopt\n",
    "    space = {\n",
    "        'lr': hp.loguniform('lr', np.log(1e-5), np.log(1e-2))  # Search learning rate logarithmically\n",
    "    }\n",
    "    \n",
    "    # Use a lambda function to pass `_model` to the objective function\n",
    "    best = fmin(\n",
    "        fn=lambda params: objective(params, _model=model),  # Takes params as its input (a dictionary with hyperparameters like lr).\n",
    "        space=space,\n",
    "        algo=tpe.suggest,\n",
    "        max_evals=5\n",
    "    )\n",
    "    \n",
    "    models_best_params[f'{model}'] = best\n",
    "    print(f\"Best hyperparameters for {model}:\", best)"
   ]
  },
  {
   "cell_type": "code",
   "execution_count": 17,
   "id": "65fe26dd-5eec-42ba-8628-980b0701ee9c",
   "metadata": {},
   "outputs": [
    {
     "name": "stdout",
     "output_type": "stream",
     "text": [
      "Model: VGG16\n",
      "Best Hyperparameters: {'lr': 8.440453952880984e-05}\n",
      "------------------------------\n",
      "Model: ResNet-50\n",
      "Best Hyperparameters: {'lr': 0.0012807139284544634}\n",
      "------------------------------\n",
      "Model: DenseNet121\n",
      "Best Hyperparameters: {'lr': 0.0004112928002730808}\n",
      "------------------------------\n",
      "Model: MobileNet\n",
      "Best Hyperparameters: {'lr': 0.0017952256762670846}\n",
      "------------------------------\n"
     ]
    }
   ],
   "source": [
    "for model, best_params in models_best_params.items():\n",
    "    print(f\"Model: {model}\")\n",
    "    print(f\"Best Hyperparameters: {best_params}\")\n",
    "    print(\"-\" * 30)  "
   ]
  },
  {
   "cell_type": "code",
   "execution_count": 22,
   "id": "79f13c6b-7fcf-4326-a6d6-8c6e2ef6c435",
   "metadata": {},
   "outputs": [
    {
     "name": "stdout",
     "output_type": "stream",
     "text": [
      "The learning rate for ResNet-50 is 0.0012807139284544634\n"
     ]
    }
   ],
   "source": [
    "def get_learning_rate(model_name):\n",
    "    return models_best_params.get(model_name, {}).get(\"lr\", \"Model not found\")\n",
    "\n",
    "model_name = \"ResNet-50\"\n",
    "learning_rate = get_learning_rate(model_name)\n",
    "print(f\"The learning rate for {model_name} is {learning_rate}\")"
   ]
  },
  {
   "cell_type": "markdown",
   "id": "d7e66405-2bca-463d-ae5f-85cd20184f71",
   "metadata": {},
   "source": [
    "# Split the data into k folds"
   ]
  },
  {
   "cell_type": "code",
   "execution_count": 18,
   "id": "0ad074fb-7f9d-4ecf-8dba-0753ebec8534",
   "metadata": {},
   "outputs": [],
   "source": [
    "n_splits = 3\n",
    "\n",
    "# Initialize KFold\n",
    "kf = KFold(n_splits=n_splits, shuffle=True, random_state=42)"
   ]
  },
  {
   "cell_type": "markdown",
   "id": "04e88b61-2610-4aa4-a126-c6dde01e7158",
   "metadata": {},
   "source": [
    "# function to measure performance "
   ]
  },
  {
   "cell_type": "code",
   "execution_count": 19,
   "id": "89dca976-92d1-4742-b9da-7bd4edfc5943",
   "metadata": {},
   "outputs": [],
   "source": [
    "def performance_matrix(y_true, y_pred):\n",
    "    cm = confusion_matrix(y_true, y_pred)\n",
    "    acc = accuracy_score(y_true, y_pred)\n",
    "    prec = precision_score(y_true, y_pred, average='weighted')\n",
    "    rec = recall_score(y_true, y_pred, average='weighted')\n",
    "    f1 = f1_score(y_true, y_pred, average='weighted')\n",
    "    return cm, acc, prec, rec, f1"
   ]
  },
  {
   "cell_type": "markdown",
   "id": "deae0132-848a-4e08-a5e0-31d2d39d9293",
   "metadata": {},
   "source": [
    "# train and validate function"
   ]
  },
  {
   "cell_type": "code",
   "execution_count": 20,
   "id": "e48c83e9-8483-469c-9d4b-5a6cf7b9eafa",
   "metadata": {},
   "outputs": [],
   "source": [
    "from datetime import datetime"
   ]
  },
  {
   "cell_type": "code",
   "execution_count": 21,
   "id": "558196a4-9c53-4889-94ce-57ac0e688b07",
   "metadata": {},
   "outputs": [],
   "source": [
    "def train_validate_model(model, criterion, optimizer, train_loader, val_loader, fold, model_name, num_epochs=3):\n",
    "    train_validate_history = {}\n",
    "    best_model_wts = None\n",
    "    best_val_acc = 0.0\n",
    "    \n",
    "    # Create folder structure for saving best models\n",
    "    save_dir = os.path.join(\"bestmodelsV4\", f\"fold{fold+1}\")\n",
    "    os.makedirs(save_dir, exist_ok=True)\n",
    "\n",
    "    device = torch.device(\"cuda\" if torch.cuda.is_available() else \"cpu\")\n",
    "    model = model.to(device)\n",
    "    \n",
    "    model.train()  \n",
    "\n",
    "    for epoch in range(num_epochs):\n",
    "        print(f\"Epoch {epoch + 1}/{num_epochs}\")\n",
    "        \n",
    "        # Training\n",
    "        running_loss = 0.0\n",
    "        running_corrects = 0\n",
    "\n",
    "        for inputs, labels in tqdm(train_loader, desc=\"Training\"):\n",
    "            inputs, labels = inputs.to(device), labels.to(device)\n",
    "            optimizer.zero_grad()\n",
    "            outputs = model(inputs)\n",
    "            loss = criterion(outputs, labels)\n",
    "            loss.backward()\n",
    "            optimizer.step()\n",
    "\n",
    "            _, preds = torch.max(outputs, 1)\n",
    "            running_loss += loss.item() * inputs.size(0)\n",
    "            running_corrects += torch.sum(preds == labels.data)\n",
    "\n",
    "        train_loss = running_loss / len(train_loader.dataset)\n",
    "        train_acc = running_corrects.double() / len(train_loader.dataset)\n",
    "        print(f\"[{model_name}] Fold {fold+1}, Epoch {epoch+1}: Train Loss: {train_loss:.2f} Acc: {train_acc:.2f}\")\n",
    "\n",
    "        # Validation\n",
    "        model.eval()\n",
    "        val_loss = 0.0\n",
    "        val_corrects = 0\n",
    "        with torch.no_grad():\n",
    "            for inputs, labels in val_loader:\n",
    "                inputs, labels = inputs.to(device), labels.to(device)\n",
    "                outputs = model(inputs)\n",
    "                loss = criterion(outputs, labels)\n",
    "                _, preds = torch.max(outputs, 1)\n",
    "                val_loss += loss.item() * inputs.size(0)\n",
    "                val_corrects += torch.sum(preds == labels.data)\n",
    "\n",
    "        val_loss = val_loss / len(val_loader.dataset)\n",
    "        val_acc = val_corrects.double() / len(val_loader.dataset)\n",
    "        print(f\"[{model_name}] Fold {fold+1}, Epoch {epoch+1}: Validation Loss: {val_loss:.2f} Acc: {val_acc:.2f}\\n\")\n",
    "\n",
    "        # Store the results in the history dictionary\n",
    "        train_validate_history[f\"{model_name}_fold{fold+1}_epoch{epoch+1}\"] = {\n",
    "            \"train_loss\": train_loss,\n",
    "            \"train_acc\": train_acc.item(),\n",
    "            \"val_loss\": val_loss,\n",
    "            \"val_acc\": val_acc.item(),\n",
    "        }\n",
    "\n",
    "        # Save best model based on validation accuracy\n",
    "        if val_acc > best_val_acc:\n",
    "            best_val_acc = val_acc\n",
    "            best_model_wts = model.state_dict().copy()  \n",
    "\n",
    "        model.train()\n",
    "\n",
    "    # Save the best model weights to the specified directory\n",
    "    best_model_path = os.path.join(save_dir, f\"{model_name}_{datetime.now().strftime('%Y-%m-%d_%H-%M-%S')}.pth\")\n",
    "    if best_model_wts:\n",
    "        torch.save(best_model_wts, best_model_path)\n",
    "        print(f\"Best model for {model_name} (Fold {fold+1}) saved at: {best_model_path}\")\n",
    "\n",
    "    return model, train_validate_history"
   ]
  },
  {
   "cell_type": "code",
   "execution_count": 23,
   "id": "3382a6f5-809f-4071-a44c-caf9a7f217a7",
   "metadata": {
    "scrolled": true
   },
   "outputs": [
    {
     "name": "stdout",
     "output_type": "stream",
     "text": [
      "Fold 1/3\n",
      "Epoch 1/3\n"
     ]
    },
    {
     "name": "stderr",
     "output_type": "stream",
     "text": [
      "Training: 100%|██████████████████████████████████████████████████████████████████████| 167/167 [02:00<00:00,  1.39it/s]\n"
     ]
    },
    {
     "name": "stdout",
     "output_type": "stream",
     "text": [
      "[VGG16] Fold 1, Epoch 1: Train Loss: 0.65 Acc: 0.63\n",
      "[VGG16] Fold 1, Epoch 1: Validation Loss: 0.93 Acc: 0.26\n",
      "\n",
      "Epoch 2/3\n"
     ]
    },
    {
     "name": "stderr",
     "output_type": "stream",
     "text": [
      "Training: 100%|██████████████████████████████████████████████████████████████████████| 167/167 [01:59<00:00,  1.40it/s]\n"
     ]
    },
    {
     "name": "stdout",
     "output_type": "stream",
     "text": [
      "[VGG16] Fold 1, Epoch 2: Train Loss: 0.59 Acc: 0.69\n",
      "[VGG16] Fold 1, Epoch 2: Validation Loss: 0.87 Acc: 0.35\n",
      "\n",
      "Epoch 3/3\n"
     ]
    },
    {
     "name": "stderr",
     "output_type": "stream",
     "text": [
      "Training: 100%|██████████████████████████████████████████████████████████████████████| 167/167 [01:58<00:00,  1.41it/s]\n"
     ]
    },
    {
     "name": "stdout",
     "output_type": "stream",
     "text": [
      "[VGG16] Fold 1, Epoch 3: Train Loss: 0.56 Acc: 0.72\n",
      "[VGG16] Fold 1, Epoch 3: Validation Loss: 0.90 Acc: 0.36\n",
      "\n",
      "Best model for VGG16 (Fold 1) saved at: bestmodelsV4\\fold1\\VGG16_2024-12-26_17-08-19.pth\n",
      "Epoch 1/3\n"
     ]
    },
    {
     "name": "stderr",
     "output_type": "stream",
     "text": [
      "Training: 100%|██████████████████████████████████████████████████████████████████████| 167/167 [00:40<00:00,  4.17it/s]\n"
     ]
    },
    {
     "name": "stdout",
     "output_type": "stream",
     "text": [
      "[ResNet-50] Fold 1, Epoch 1: Train Loss: 0.50 Acc: 0.76\n",
      "[ResNet-50] Fold 1, Epoch 1: Validation Loss: 0.45 Acc: 0.81\n",
      "\n",
      "Epoch 2/3\n"
     ]
    },
    {
     "name": "stderr",
     "output_type": "stream",
     "text": [
      "Training: 100%|██████████████████████████████████████████████████████████████████████| 167/167 [00:40<00:00,  4.15it/s]\n"
     ]
    },
    {
     "name": "stdout",
     "output_type": "stream",
     "text": [
      "[ResNet-50] Fold 1, Epoch 2: Train Loss: 0.38 Acc: 0.84\n",
      "[ResNet-50] Fold 1, Epoch 2: Validation Loss: 0.53 Acc: 0.72\n",
      "\n",
      "Epoch 3/3\n"
     ]
    },
    {
     "name": "stderr",
     "output_type": "stream",
     "text": [
      "Training: 100%|██████████████████████████████████████████████████████████████████████| 167/167 [00:40<00:00,  4.12it/s]\n"
     ]
    },
    {
     "name": "stdout",
     "output_type": "stream",
     "text": [
      "[ResNet-50] Fold 1, Epoch 3: Train Loss: 0.34 Acc: 0.86\n",
      "[ResNet-50] Fold 1, Epoch 3: Validation Loss: 0.51 Acc: 0.74\n",
      "\n",
      "Best model for ResNet-50 (Fold 1) saved at: bestmodelsV4\\fold1\\ResNet-50_2024-12-26_17-12-05.pth\n",
      "Epoch 1/3\n"
     ]
    },
    {
     "name": "stderr",
     "output_type": "stream",
     "text": [
      "Training: 100%|██████████████████████████████████████████████████████████████████████| 167/167 [00:41<00:00,  3.99it/s]\n"
     ]
    },
    {
     "name": "stdout",
     "output_type": "stream",
     "text": [
      "[DenseNet121] Fold 1, Epoch 1: Train Loss: 0.59 Acc: 0.69\n",
      "[DenseNet121] Fold 1, Epoch 1: Validation Loss: 0.73 Acc: 0.54\n",
      "\n",
      "Epoch 2/3\n"
     ]
    },
    {
     "name": "stderr",
     "output_type": "stream",
     "text": [
      "Training: 100%|██████████████████████████████████████████████████████████████████████| 167/167 [00:41<00:00,  3.99it/s]\n"
     ]
    },
    {
     "name": "stdout",
     "output_type": "stream",
     "text": [
      "[DenseNet121] Fold 1, Epoch 2: Train Loss: 0.49 Acc: 0.78\n",
      "[DenseNet121] Fold 1, Epoch 2: Validation Loss: 0.61 Acc: 0.66\n",
      "\n",
      "Epoch 3/3\n"
     ]
    },
    {
     "name": "stderr",
     "output_type": "stream",
     "text": [
      "Training: 100%|██████████████████████████████████████████████████████████████████████| 167/167 [00:42<00:00,  3.95it/s]\n"
     ]
    },
    {
     "name": "stdout",
     "output_type": "stream",
     "text": [
      "[DenseNet121] Fold 1, Epoch 3: Train Loss: 0.45 Acc: 0.80\n",
      "[DenseNet121] Fold 1, Epoch 3: Validation Loss: 0.65 Acc: 0.64\n",
      "\n",
      "Best model for DenseNet121 (Fold 1) saved at: bestmodelsV4\\fold1\\DenseNet121_2024-12-26_17-15-06.pth\n",
      "Epoch 1/3\n"
     ]
    },
    {
     "name": "stderr",
     "output_type": "stream",
     "text": [
      "Training: 100%|██████████████████████████████████████████████████████████████████████| 167/167 [00:22<00:00,  7.32it/s]\n"
     ]
    },
    {
     "name": "stdout",
     "output_type": "stream",
     "text": [
      "[MobileNet] Fold 1, Epoch 1: Train Loss: 0.53 Acc: 0.75\n",
      "[MobileNet] Fold 1, Epoch 1: Validation Loss: 0.46 Acc: 0.81\n",
      "\n",
      "Epoch 2/3\n"
     ]
    },
    {
     "name": "stderr",
     "output_type": "stream",
     "text": [
      "Training: 100%|██████████████████████████████████████████████████████████████████████| 167/167 [00:22<00:00,  7.37it/s]\n"
     ]
    },
    {
     "name": "stdout",
     "output_type": "stream",
     "text": [
      "[MobileNet] Fold 1, Epoch 2: Train Loss: 0.45 Acc: 0.79\n",
      "[MobileNet] Fold 1, Epoch 2: Validation Loss: 0.47 Acc: 0.78\n",
      "\n",
      "Epoch 3/3\n"
     ]
    },
    {
     "name": "stderr",
     "output_type": "stream",
     "text": [
      "Training: 100%|██████████████████████████████████████████████████████████████████████| 167/167 [00:22<00:00,  7.35it/s]\n"
     ]
    },
    {
     "name": "stdout",
     "output_type": "stream",
     "text": [
      "[MobileNet] Fold 1, Epoch 3: Train Loss: 0.42 Acc: 0.80\n",
      "[MobileNet] Fold 1, Epoch 3: Validation Loss: 0.71 Acc: 0.61\n",
      "\n",
      "Best model for MobileNet (Fold 1) saved at: bestmodelsV4\\fold1\\MobileNet_2024-12-26_17-16-56.pth\n",
      "Fold 2/3\n",
      "Epoch 1/3\n"
     ]
    },
    {
     "name": "stderr",
     "output_type": "stream",
     "text": [
      "Training: 100%|██████████████████████████████████████████████████████████████████████| 167/167 [01:59<00:00,  1.40it/s]\n"
     ]
    },
    {
     "name": "stdout",
     "output_type": "stream",
     "text": [
      "[VGG16] Fold 2, Epoch 1: Train Loss: 0.65 Acc: 0.63\n",
      "[VGG16] Fold 2, Epoch 1: Validation Loss: 0.90 Acc: 0.27\n",
      "\n",
      "Epoch 2/3\n"
     ]
    },
    {
     "name": "stderr",
     "output_type": "stream",
     "text": [
      "Training: 100%|██████████████████████████████████████████████████████████████████████| 167/167 [01:58<00:00,  1.41it/s]\n"
     ]
    },
    {
     "name": "stdout",
     "output_type": "stream",
     "text": [
      "[VGG16] Fold 2, Epoch 2: Train Loss: 0.60 Acc: 0.68\n",
      "[VGG16] Fold 2, Epoch 2: Validation Loss: 0.95 Acc: 0.29\n",
      "\n",
      "Epoch 3/3\n"
     ]
    },
    {
     "name": "stderr",
     "output_type": "stream",
     "text": [
      "Training: 100%|██████████████████████████████████████████████████████████████████████| 167/167 [01:58<00:00,  1.41it/s]\n"
     ]
    },
    {
     "name": "stdout",
     "output_type": "stream",
     "text": [
      "[VGG16] Fold 2, Epoch 3: Train Loss: 0.58 Acc: 0.70\n",
      "[VGG16] Fold 2, Epoch 3: Validation Loss: 0.88 Acc: 0.37\n",
      "\n",
      "Best model for VGG16 (Fold 2) saved at: bestmodelsV4\\fold2\\VGG16_2024-12-26_17-24-35.pth\n",
      "Epoch 1/3\n"
     ]
    },
    {
     "name": "stderr",
     "output_type": "stream",
     "text": [
      "Training: 100%|██████████████████████████████████████████████████████████████████████| 167/167 [00:40<00:00,  4.12it/s]\n"
     ]
    },
    {
     "name": "stdout",
     "output_type": "stream",
     "text": [
      "[ResNet-50] Fold 2, Epoch 1: Train Loss: 0.50 Acc: 0.76\n",
      "[ResNet-50] Fold 2, Epoch 1: Validation Loss: 0.69 Acc: 0.59\n",
      "\n",
      "Epoch 2/3\n"
     ]
    },
    {
     "name": "stderr",
     "output_type": "stream",
     "text": [
      "Training: 100%|██████████████████████████████████████████████████████████████████████| 167/167 [00:40<00:00,  4.09it/s]\n"
     ]
    },
    {
     "name": "stdout",
     "output_type": "stream",
     "text": [
      "[ResNet-50] Fold 2, Epoch 2: Train Loss: 0.39 Acc: 0.84\n",
      "[ResNet-50] Fold 2, Epoch 2: Validation Loss: 0.50 Acc: 0.76\n",
      "\n",
      "Epoch 3/3\n"
     ]
    },
    {
     "name": "stderr",
     "output_type": "stream",
     "text": [
      "Training: 100%|██████████████████████████████████████████████████████████████████████| 167/167 [00:41<00:00,  4.07it/s]\n"
     ]
    },
    {
     "name": "stdout",
     "output_type": "stream",
     "text": [
      "[ResNet-50] Fold 2, Epoch 3: Train Loss: 0.35 Acc: 0.86\n",
      "[ResNet-50] Fold 2, Epoch 3: Validation Loss: 0.65 Acc: 0.65\n",
      "\n",
      "Best model for ResNet-50 (Fold 2) saved at: bestmodelsV4\\fold2\\ResNet-50_2024-12-26_17-28-22.pth\n",
      "Epoch 1/3\n"
     ]
    },
    {
     "name": "stderr",
     "output_type": "stream",
     "text": [
      "Training: 100%|██████████████████████████████████████████████████████████████████████| 167/167 [00:42<00:00,  3.95it/s]\n"
     ]
    },
    {
     "name": "stdout",
     "output_type": "stream",
     "text": [
      "[DenseNet121] Fold 2, Epoch 1: Train Loss: 0.59 Acc: 0.69\n",
      "[DenseNet121] Fold 2, Epoch 1: Validation Loss: 0.67 Acc: 0.60\n",
      "\n",
      "Epoch 2/3\n"
     ]
    },
    {
     "name": "stderr",
     "output_type": "stream",
     "text": [
      "Training: 100%|██████████████████████████████████████████████████████████████████████| 167/167 [00:42<00:00,  3.96it/s]\n"
     ]
    },
    {
     "name": "stdout",
     "output_type": "stream",
     "text": [
      "[DenseNet121] Fold 2, Epoch 2: Train Loss: 0.50 Acc: 0.76\n",
      "[DenseNet121] Fold 2, Epoch 2: Validation Loss: 0.54 Acc: 0.74\n",
      "\n",
      "Epoch 3/3\n"
     ]
    },
    {
     "name": "stderr",
     "output_type": "stream",
     "text": [
      "Training: 100%|██████████████████████████████████████████████████████████████████████| 167/167 [00:42<00:00,  3.95it/s]\n"
     ]
    },
    {
     "name": "stdout",
     "output_type": "stream",
     "text": [
      "[DenseNet121] Fold 2, Epoch 3: Train Loss: 0.46 Acc: 0.80\n",
      "[DenseNet121] Fold 2, Epoch 3: Validation Loss: 0.59 Acc: 0.70\n",
      "\n",
      "Best model for DenseNet121 (Fold 2) saved at: bestmodelsV4\\fold2\\DenseNet121_2024-12-26_17-31-24.pth\n",
      "Epoch 1/3\n"
     ]
    },
    {
     "name": "stderr",
     "output_type": "stream",
     "text": [
      "Training: 100%|██████████████████████████████████████████████████████████████████████| 167/167 [00:22<00:00,  7.39it/s]\n"
     ]
    },
    {
     "name": "stdout",
     "output_type": "stream",
     "text": [
      "[MobileNet] Fold 2, Epoch 1: Train Loss: 0.52 Acc: 0.75\n",
      "[MobileNet] Fold 2, Epoch 1: Validation Loss: 0.52 Acc: 0.73\n",
      "\n",
      "Epoch 2/3\n"
     ]
    },
    {
     "name": "stderr",
     "output_type": "stream",
     "text": [
      "Training: 100%|██████████████████████████████████████████████████████████████████████| 167/167 [00:22<00:00,  7.39it/s]\n"
     ]
    },
    {
     "name": "stdout",
     "output_type": "stream",
     "text": [
      "[MobileNet] Fold 2, Epoch 2: Train Loss: 0.45 Acc: 0.79\n",
      "[MobileNet] Fold 2, Epoch 2: Validation Loss: 0.57 Acc: 0.70\n",
      "\n",
      "Epoch 3/3\n"
     ]
    },
    {
     "name": "stderr",
     "output_type": "stream",
     "text": [
      "Training: 100%|██████████████████████████████████████████████████████████████████████| 167/167 [00:22<00:00,  7.38it/s]\n"
     ]
    },
    {
     "name": "stdout",
     "output_type": "stream",
     "text": [
      "[MobileNet] Fold 2, Epoch 3: Train Loss: 0.43 Acc: 0.80\n",
      "[MobileNet] Fold 2, Epoch 3: Validation Loss: 0.75 Acc: 0.58\n",
      "\n",
      "Best model for MobileNet (Fold 2) saved at: bestmodelsV4\\fold2\\MobileNet_2024-12-26_17-33-14.pth\n",
      "Fold 3/3\n",
      "Epoch 1/3\n"
     ]
    },
    {
     "name": "stderr",
     "output_type": "stream",
     "text": [
      "Training: 100%|██████████████████████████████████████████████████████████████████████| 167/167 [01:58<00:00,  1.41it/s]\n"
     ]
    },
    {
     "name": "stdout",
     "output_type": "stream",
     "text": [
      "[VGG16] Fold 3, Epoch 1: Train Loss: 0.65 Acc: 0.64\n",
      "[VGG16] Fold 3, Epoch 1: Validation Loss: 0.85 Acc: 0.32\n",
      "\n",
      "Epoch 2/3\n"
     ]
    },
    {
     "name": "stderr",
     "output_type": "stream",
     "text": [
      "Training: 100%|██████████████████████████████████████████████████████████████████████| 167/167 [01:58<00:00,  1.41it/s]\n"
     ]
    },
    {
     "name": "stdout",
     "output_type": "stream",
     "text": [
      "[VGG16] Fold 3, Epoch 2: Train Loss: 0.59 Acc: 0.69\n",
      "[VGG16] Fold 3, Epoch 2: Validation Loss: 0.85 Acc: 0.38\n",
      "\n",
      "Epoch 3/3\n"
     ]
    },
    {
     "name": "stderr",
     "output_type": "stream",
     "text": [
      "Training: 100%|██████████████████████████████████████████████████████████████████████| 167/167 [01:58<00:00,  1.41it/s]\n"
     ]
    },
    {
     "name": "stdout",
     "output_type": "stream",
     "text": [
      "[VGG16] Fold 3, Epoch 3: Train Loss: 0.56 Acc: 0.71\n",
      "[VGG16] Fold 3, Epoch 3: Validation Loss: 0.87 Acc: 0.39\n",
      "\n",
      "Best model for VGG16 (Fold 3) saved at: bestmodelsV4\\fold3\\VGG16_2024-12-26_17-40-52.pth\n",
      "Epoch 1/3\n"
     ]
    },
    {
     "name": "stderr",
     "output_type": "stream",
     "text": [
      "Training: 100%|██████████████████████████████████████████████████████████████████████| 167/167 [00:40<00:00,  4.15it/s]\n"
     ]
    },
    {
     "name": "stdout",
     "output_type": "stream",
     "text": [
      "[ResNet-50] Fold 3, Epoch 1: Train Loss: 0.49 Acc: 0.77\n",
      "[ResNet-50] Fold 3, Epoch 1: Validation Loss: 0.59 Acc: 0.69\n",
      "\n",
      "Epoch 2/3\n"
     ]
    },
    {
     "name": "stderr",
     "output_type": "stream",
     "text": [
      "Training: 100%|██████████████████████████████████████████████████████████████████████| 167/167 [00:41<00:00,  4.07it/s]\n"
     ]
    },
    {
     "name": "stdout",
     "output_type": "stream",
     "text": [
      "[ResNet-50] Fold 3, Epoch 2: Train Loss: 0.37 Acc: 0.84\n",
      "[ResNet-50] Fold 3, Epoch 2: Validation Loss: 0.46 Acc: 0.78\n",
      "\n",
      "Epoch 3/3\n"
     ]
    },
    {
     "name": "stderr",
     "output_type": "stream",
     "text": [
      "Training: 100%|██████████████████████████████████████████████████████████████████████| 167/167 [00:41<00:00,  4.07it/s]\n"
     ]
    },
    {
     "name": "stdout",
     "output_type": "stream",
     "text": [
      "[ResNet-50] Fold 3, Epoch 3: Train Loss: 0.33 Acc: 0.87\n",
      "[ResNet-50] Fold 3, Epoch 3: Validation Loss: 0.44 Acc: 0.79\n",
      "\n",
      "Best model for ResNet-50 (Fold 3) saved at: bestmodelsV4\\fold3\\ResNet-50_2024-12-26_17-44-39.pth\n",
      "Epoch 1/3\n"
     ]
    },
    {
     "name": "stderr",
     "output_type": "stream",
     "text": [
      "Training: 100%|██████████████████████████████████████████████████████████████████████| 167/167 [00:41<00:00,  3.98it/s]\n"
     ]
    },
    {
     "name": "stdout",
     "output_type": "stream",
     "text": [
      "[DenseNet121] Fold 3, Epoch 1: Train Loss: 0.58 Acc: 0.70\n",
      "[DenseNet121] Fold 3, Epoch 1: Validation Loss: 0.72 Acc: 0.54\n",
      "\n",
      "Epoch 2/3\n"
     ]
    },
    {
     "name": "stderr",
     "output_type": "stream",
     "text": [
      "Training: 100%|██████████████████████████████████████████████████████████████████████| 167/167 [00:42<00:00,  3.96it/s]\n"
     ]
    },
    {
     "name": "stdout",
     "output_type": "stream",
     "text": [
      "[DenseNet121] Fold 3, Epoch 2: Train Loss: 0.49 Acc: 0.77\n",
      "[DenseNet121] Fold 3, Epoch 2: Validation Loss: 0.70 Acc: 0.59\n",
      "\n",
      "Epoch 3/3\n"
     ]
    },
    {
     "name": "stderr",
     "output_type": "stream",
     "text": [
      "Training: 100%|██████████████████████████████████████████████████████████████████████| 167/167 [00:42<00:00,  3.97it/s]\n"
     ]
    },
    {
     "name": "stdout",
     "output_type": "stream",
     "text": [
      "[DenseNet121] Fold 3, Epoch 3: Train Loss: 0.45 Acc: 0.80\n",
      "[DenseNet121] Fold 3, Epoch 3: Validation Loss: 0.59 Acc: 0.68\n",
      "\n",
      "Best model for DenseNet121 (Fold 3) saved at: bestmodelsV4\\fold3\\DenseNet121_2024-12-26_17-47-41.pth\n",
      "Epoch 1/3\n"
     ]
    },
    {
     "name": "stderr",
     "output_type": "stream",
     "text": [
      "Training: 100%|██████████████████████████████████████████████████████████████████████| 167/167 [00:22<00:00,  7.29it/s]\n"
     ]
    },
    {
     "name": "stdout",
     "output_type": "stream",
     "text": [
      "[MobileNet] Fold 3, Epoch 1: Train Loss: 0.51 Acc: 0.75\n",
      "[MobileNet] Fold 3, Epoch 1: Validation Loss: 0.64 Acc: 0.64\n",
      "\n",
      "Epoch 2/3\n"
     ]
    },
    {
     "name": "stderr",
     "output_type": "stream",
     "text": [
      "Training: 100%|██████████████████████████████████████████████████████████████████████| 167/167 [00:22<00:00,  7.45it/s]\n"
     ]
    },
    {
     "name": "stdout",
     "output_type": "stream",
     "text": [
      "[MobileNet] Fold 3, Epoch 2: Train Loss: 0.43 Acc: 0.81\n",
      "[MobileNet] Fold 3, Epoch 2: Validation Loss: 0.64 Acc: 0.64\n",
      "\n",
      "Epoch 3/3\n"
     ]
    },
    {
     "name": "stderr",
     "output_type": "stream",
     "text": [
      "Training: 100%|██████████████████████████████████████████████████████████████████████| 167/167 [00:22<00:00,  7.41it/s]\n"
     ]
    },
    {
     "name": "stdout",
     "output_type": "stream",
     "text": [
      "[MobileNet] Fold 3, Epoch 3: Train Loss: 0.42 Acc: 0.81\n",
      "[MobileNet] Fold 3, Epoch 3: Validation Loss: 0.62 Acc: 0.67\n",
      "\n",
      "Best model for MobileNet (Fold 3) saved at: bestmodelsV4\\fold3\\MobileNet_2024-12-26_17-49-31.pth\n"
     ]
    }
   ],
   "source": [
    "results = {model_name: [] for model_name in our_models}\n",
    "train_val_hist = []\n",
    "\n",
    "for fold, (train_idx, test_idx) in enumerate(kf.split(dataset)):\n",
    "    print(f\"Fold {fold+1}/{n_splits}\")\n",
    "\n",
    "    train_set = Subset(dataset, train_idx)\n",
    "    test_set = Subset(dataset, test_idx)\n",
    "    val_split = int(len(train_set) * 0.8)\n",
    "    val_set = Subset(train_set, range(val_split, len(train_set)))\n",
    "    train_set = Subset(train_set, range(0, val_split))\n",
    "\n",
    "    train_loader = DataLoader(train_set, batch_size=32, shuffle=True)\n",
    "    val_loader = DataLoader(val_set, batch_size=32, shuffle=False)\n",
    "    test_loader = DataLoader(test_set, batch_size=32, shuffle=False)\n",
    "    \n",
    "    for model_name in our_models:\n",
    "        num_classes = len(dataset.classes)\n",
    "        \n",
    "        # Initializing the model every time ensures that no previous model parameters are retained\n",
    "        model = initialize_model(model_name, num_classes)\n",
    "\n",
    "        # getting best lr for each model\n",
    "        l_r = get_learning_rate(model_name)\n",
    "\n",
    "        criterion = torch.nn.CrossEntropyLoss()\n",
    "        optimizer = Adam(model.parameters(), lr=l_r) \n",
    "\n",
    "        model , train_val_history = train_validate_model(model, criterion, optimizer, train_loader, val_loader, fold, model_name, num_epochs=3)\n",
    "        train_val_hist.append(train_val_history)\n",
    "        \n",
    "        # Test the model\n",
    "        model.eval()\n",
    "        y_true, y_pred = [], []\n",
    "        with torch.no_grad():\n",
    "            for images, labels in test_loader:\n",
    "                images, labels = images.cuda(), labels.cuda() if torch.cuda.is_available() else (images, labels)\n",
    "                outputs = model(images)\n",
    "                y_true.extend(labels.cpu().numpy())\n",
    "                y_pred.extend(outputs.argmax(1).cpu().numpy())\n",
    "\n",
    "        cm, acc, prec, rec, f1 = performance_matrix(y_true, y_pred)\n",
    "\n",
    "        results[model_name].append({\n",
    "            \"confusion_matrix\": cm,\n",
    "            \"accuracy\": acc,\n",
    "            \"precision\": prec,\n",
    "            \"recall\": rec,\n",
    "            \"f1_score\": f1\n",
    "        })"
   ]
  },
  {
   "cell_type": "code",
   "execution_count": 24,
   "id": "76cbf1ef-d1a2-4514-aef5-d6ece6e83c51",
   "metadata": {
    "scrolled": true
   },
   "outputs": [
    {
     "name": "stdout",
     "output_type": "stream",
     "text": [
      "Results for VGG16:\n",
      "  Fold 1:\n",
      "    Confusion Matrix:\n",
      "[[1562  130]\n",
      " [1013  629]]\n",
      "    Accuracy: 0.6572\n",
      "    Precision: 0.7160\n",
      "    Recall: 0.6572\n",
      "    F1 Score: 0.6296\n",
      "  Fold 2:\n",
      "    Confusion Matrix:\n",
      "[[1601   97]\n",
      " [1075  560]]\n",
      "    Accuracy: 0.6484\n",
      "    Precision: 0.7229\n",
      "    Recall: 0.6484\n",
      "    F1 Score: 0.6127\n",
      "  Fold 3:\n",
      "    Confusion Matrix:\n",
      "[[1495  115]\n",
      " [1068  655]]\n",
      "    Accuracy: 0.6451\n",
      "    Precision: 0.7215\n",
      "    Recall: 0.6451\n",
      "    F1 Score: 0.6178\n",
      "  Averages:\n",
      "    Accuracy: 0.6502\n",
      "    Precision: 0.7201\n",
      "    Recall: 0.6502\n",
      "    F1 Score: 0.6200\n",
      "Results for ResNet-50:\n",
      "  Fold 1:\n",
      "    Confusion Matrix:\n",
      "[[1552  140]\n",
      " [ 360 1282]]\n",
      "    Accuracy: 0.8500\n",
      "    Precision: 0.8560\n",
      "    Recall: 0.8500\n",
      "    F1 Score: 0.8492\n",
      "  Fold 2:\n",
      "    Confusion Matrix:\n",
      "[[1637   61]\n",
      " [ 621 1014]]\n",
      "    Accuracy: 0.7954\n",
      "    Precision: 0.8321\n",
      "    Recall: 0.7954\n",
      "    F1 Score: 0.7887\n",
      "  Fold 3:\n",
      "    Confusion Matrix:\n",
      "[[1427  183]\n",
      " [ 363 1360]]\n",
      "    Accuracy: 0.8362\n",
      "    Precision: 0.8407\n",
      "    Recall: 0.8362\n",
      "    F1 Score: 0.8360\n",
      "  Averages:\n",
      "    Accuracy: 0.8272\n",
      "    Precision: 0.8429\n",
      "    Recall: 0.8272\n",
      "    F1 Score: 0.8246\n",
      "Results for DenseNet121:\n",
      "  Fold 1:\n",
      "    Confusion Matrix:\n",
      "[[1532  160]\n",
      " [ 570 1072]]\n",
      "    Accuracy: 0.7810\n",
      "    Precision: 0.7984\n",
      "    Recall: 0.7810\n",
      "    F1 Score: 0.7773\n",
      "  Fold 2:\n",
      "    Confusion Matrix:\n",
      "[[1501  197]\n",
      " [ 540 1095]]\n",
      "    Accuracy: 0.7789\n",
      "    Precision: 0.7904\n",
      "    Recall: 0.7789\n",
      "    F1 Score: 0.7761\n",
      "  Fold 3:\n",
      "    Confusion Matrix:\n",
      "[[1378  232]\n",
      " [ 530 1193]]\n",
      "    Accuracy: 0.7714\n",
      "    Precision: 0.7817\n",
      "    Recall: 0.7714\n",
      "    F1 Score: 0.7702\n",
      "  Averages:\n",
      "    Accuracy: 0.7771\n",
      "    Precision: 0.7902\n",
      "    Recall: 0.7771\n",
      "    F1 Score: 0.7745\n",
      "Results for MobileNet:\n",
      "  Fold 1:\n",
      "    Confusion Matrix:\n",
      "[[1553  139]\n",
      " [ 563 1079]]\n",
      "    Accuracy: 0.7894\n",
      "    Precision: 0.8088\n",
      "    Recall: 0.7894\n",
      "    F1 Score: 0.7856\n",
      "  Fold 2:\n",
      "    Confusion Matrix:\n",
      "[[1611   87]\n",
      " [ 706  929]]\n",
      "    Accuracy: 0.7621\n",
      "    Precision: 0.8028\n",
      "    Recall: 0.7621\n",
      "    F1 Score: 0.7526\n",
      "  Fold 3:\n",
      "    Confusion Matrix:\n",
      "[[1449  161]\n",
      " [ 546 1177]]\n",
      "    Accuracy: 0.7879\n",
      "    Precision: 0.8056\n",
      "    Recall: 0.7879\n",
      "    F1 Score: 0.7859\n",
      "  Averages:\n",
      "    Accuracy: 0.7798\n",
      "    Precision: 0.8057\n",
      "    Recall: 0.7798\n",
      "    F1 Score: 0.7747\n"
     ]
    }
   ],
   "source": [
    "for model_name, metrics in results.items():\n",
    "    print(f\"Results for {model_name}:\")\n",
    "    for fold_idx, fold_metrics in enumerate(metrics):\n",
    "        print(f\"  Fold {fold_idx+1}:\")\n",
    "        print(f\"    Confusion Matrix:\\n{fold_metrics['confusion_matrix']}\")\n",
    "        print(f\"    Accuracy: {fold_metrics['accuracy']:.4f}\")\n",
    "        print(f\"    Precision: {fold_metrics['precision']:.4f}\")\n",
    "        print(f\"    Recall: {fold_metrics['recall']:.4f}\")\n",
    "        print(f\"    F1 Score: {fold_metrics['f1_score']:.4f}\")\n",
    "\n",
    "    # Calculate averages\n",
    "    avg_acc = np.mean([m[\"accuracy\"] for m in metrics])\n",
    "    avg_prec = np.mean([m[\"precision\"] for m in metrics])\n",
    "    avg_rec = np.mean([m[\"recall\"] for m in metrics])\n",
    "    avg_f1 = np.mean([m[\"f1_score\"] for m in metrics])\n",
    "\n",
    "    print(f\"  Averages:\")\n",
    "    print(f\"    Accuracy: {avg_acc:.4f}\")\n",
    "    print(f\"    Precision: {avg_prec:.4f}\")\n",
    "    print(f\"    Recall: {avg_rec:.4f}\")\n",
    "    print(f\"    F1 Score: {avg_f1:.4f}\")"
   ]
  },
  {
   "cell_type": "markdown",
   "id": "0a66143e-44a4-4e56-ad70-4ec7c7cc9d2d",
   "metadata": {},
   "source": [
    "# plotting the results"
   ]
  },
  {
   "cell_type": "code",
   "execution_count": 27,
   "id": "3a50830f-6b66-46dc-9244-828f5c49b00a",
   "metadata": {},
   "outputs": [],
   "source": [
    "import matplotlib.pyplot as plt\n",
    "import seaborn as sns"
   ]
  },
  {
   "cell_type": "markdown",
   "id": "89f204ee-8419-4943-8a85-4bc225287e08",
   "metadata": {},
   "source": [
    "## Confusion Matrix"
   ]
  },
  {
   "cell_type": "code",
   "execution_count": 25,
   "id": "07788823-a224-4f63-9bdc-18451506af13",
   "metadata": {},
   "outputs": [],
   "source": [
    "def plot_heatmap(confusion_matrix, class_names, model_name):\n",
    "    plt.figure(figsize=(8, 6))\n",
    "    sns.heatmap(confusion_matrix, annot=True, fmt=\"d\", cmap=\"Blues\", xticklabels=class_names, yticklabels=class_names)\n",
    "    plt.xlabel('Predicted')\n",
    "    plt.ylabel('True')\n",
    "    plt.title(f'Confusion Matrix - {model_name}')\n",
    "    plt.show()"
   ]
  },
  {
   "cell_type": "code",
   "execution_count": 28,
   "id": "fa32e66b-5638-4fbf-85ad-13d80a6aa0aa",
   "metadata": {},
   "outputs": [
    {
     "name": "stdout",
     "output_type": "stream",
     "text": [
      "Results for VGG16:\n"
     ]
    },
    {
     "data": {
      "image/png": "[encoded data removed]",
      "text/plain": [
       "<Figure size 800x600 with 2 Axes>"
      ]
     },
     "metadata": {},
     "output_type": "display_data"
    },
    {
     "name": "stdout",
     "output_type": "stream",
     "text": [
      "Results for ResNet-50:\n"
     ]
    },
    {
     "data": {
      "image/png": "[encoded data removed]",
      "text/plain": [
       "<Figure size 800x600 with 2 Axes>"
      ]
     },
     "metadata": {},
     "output_type": "display_data"
    },
    {
     "name": "stdout",
     "output_type": "stream",
     "text": [
      "Results for DenseNet121:\n"
     ]
    },
    {
     "data": {
      "image/png": "[encoded data removed]",
      "text/plain": [
       "<Figure size 800x600 with 2 Axes>"
      ]
     },
     "metadata": {},
     "output_type": "display_data"
    },
    {
     "name": "stdout",
     "output_type": "stream",
     "text": [
      "Results for MobileNet:\n"
     ]
    },
    {
     "data": {
      "image/png": "[encoded data removed]",
      "text/plain": [
       "<Figure size 800x600 with 2 Axes>"
      ]
     },
     "metadata": {},
     "output_type": "display_data"
    }
   ],
   "source": [
    "class_names = dataset.classes  \n",
    "\n",
    "for model_name, metrics in results.items():\n",
    "    print(f\"Results for {model_name}:\")\n",
    "    sum_of_cms = 0\n",
    "    for fold_idx, fold_metrics in enumerate(metrics):\n",
    "        sum_of_cms+= fold_metrics['confusion_matrix']\n",
    "        \n",
    "    plot_heatmap(sum_of_cms, class_names, model_name)"
   ]
  },
  {
   "cell_type": "markdown",
   "id": "1b4e4f1b-55fb-44f1-b634-1a82f1cc1468",
   "metadata": {},
   "source": [
    "## Bar Chart for Average Metrics"
   ]
  },
  {
   "cell_type": "code",
   "execution_count": 29,
   "id": "ca376eb7-dfa2-410e-8a98-ed45b7a1ef66",
   "metadata": {},
   "outputs": [],
   "source": [
    "models = list(results.keys())\n",
    "metrics = [\"accuracy\", \"precision\", \"recall\", \"f1_score\"]\n",
    "avg_metrics = {model: [\n",
    "    np.mean([fold[metric] for fold in results[model]]) for metric in metrics\n",
    "] for model in models}\n",
    "fold_metrics = {model: [\n",
    "    [fold[metric] for metric in metrics] for fold in results[model]\n",
    "] for model in models}\n",
    "conf_matrices = {model: [\n",
    "    np.array(fold[\"confusion_matrix\"]) for fold in results[model]\n",
    "] for model in models}"
   ]
  },
  {
   "cell_type": "code",
   "execution_count": 30,
   "id": "efaf11ab-d2b9-4c30-93cb-e6af4ec74034",
   "metadata": {},
   "outputs": [
    {
     "data": {
      "image/png": "[encoded data removed]",
      "text/plain": [
       "<Figure size 1000x600 with 1 Axes>"
      ]
     },
     "metadata": {},
     "output_type": "display_data"
    }
   ],
   "source": [
    "plt.figure(figsize=(10, 6))\n",
    "x = np.arange(len(metrics))\n",
    "width = 0.2\n",
    "\n",
    "for i, model in enumerate(models):\n",
    "    plt.bar(x + i * width, avg_metrics[model], width, label=model)\n",
    "\n",
    "plt.xticks(x + width, metrics)\n",
    "plt.ylabel('Score')\n",
    "plt.title('Average Performance Metrics by Model')\n",
    "plt.legend()\n",
    "plt.grid(axis='y', linestyle='--', alpha=0.7)\n",
    "plt.tight_layout()\n",
    "plt.show()"
   ]
  },
  {
   "cell_type": "markdown",
   "id": "90017e9d-131d-49c8-96e7-dcd33f28080f",
   "metadata": {},
   "source": [
    "# ⁠Fine tune each of the previous model by fine tuning the final 2 layers"
   ]
  },
  {
   "cell_type": "code",
   "execution_count": 31,
   "id": "509f6921-3f8e-4891-b192-1582ec8b3f6b",
   "metadata": {},
   "outputs": [],
   "source": [
    "def freeze_all_except_last_two_layers(model):\n",
    "    for param in model.parameters():\n",
    "        param.requires_grad = False\n",
    "\n",
    "    # Unfreeze the last two layers\n",
    "    for child in list(model.children())[-2:]:\n",
    "        for param in child.parameters():\n",
    "            param.requires_grad = True\n",
    "\n",
    "def initialize_model(model_name, num_classes):\n",
    "    if model_name == \"VGG16\":\n",
    "        model = vgg16(weights=VGG16_Weights.DEFAULT)\n",
    "        freeze_all_except_last_two_layers(model)\n",
    "        num_ftrs = model.classifier[6].in_features\n",
    "        model.classifier[6] = nn.Linear(num_ftrs, num_classes)\n",
    "    elif model_name == \"ResNet-50\":\n",
    "        model = resnet50(weights=ResNet50_Weights.DEFAULT)\n",
    "        freeze_all_except_last_two_layers(model)\n",
    "        num_ftrs = model.fc.in_features\n",
    "        model.fc = nn.Linear(num_ftrs, num_classes)\n",
    "    elif model_name == \"DenseNet121\":\n",
    "        model = densenet121(weights=DenseNet121_Weights.DEFAULT)\n",
    "        freeze_all_except_last_two_layers(model)\n",
    "        num_ftrs = model.classifier.in_features\n",
    "        model.classifier = nn.Linear(num_ftrs, num_classes)\n",
    "    elif model_name == \"MobileNet\":\n",
    "        model = mobilenet_v2(weights=MobileNet_V2_Weights.DEFAULT)\n",
    "        freeze_all_except_last_two_layers(model)\n",
    "        num_ftrs = model.last_channel\n",
    "        model.classifier[1] = nn.Linear(num_ftrs, num_classes)\n",
    "    else:\n",
    "        print(f\"Error: Model '{model_name}' not supported.\")\n",
    "        return None\n",
    "\n",
    "    return model"
   ]
  },
  {
   "cell_type": "code",
   "execution_count": 32,
   "id": "b070a24d-0278-4ae6-990d-120482726784",
   "metadata": {},
   "outputs": [
    {
     "name": "stdout",
     "output_type": "stream",
     "text": [
      "Fold 1/3\n",
      "Epoch 1/2\n"
     ]
    },
    {
     "name": "stderr",
     "output_type": "stream",
     "text": [
      "Training: 100%|██████████████████████████████████████████████████████████████████████| 167/167 [02:31<00:00,  1.10it/s]\n"
     ]
    },
    {
     "name": "stdout",
     "output_type": "stream",
     "text": [
      "[VGG16] Fold 1, Epoch 1: Train Loss: 0.49 Acc: 0.77\n",
      "[VGG16] Fold 1, Epoch 1: Validation Loss: 0.66 Acc: 0.65\n",
      "\n",
      "Epoch 2/2\n"
     ]
    },
    {
     "name": "stderr",
     "output_type": "stream",
     "text": [
      "Training: 100%|██████████████████████████████████████████████████████████████████████| 167/167 [03:14<00:00,  1.17s/it]\n"
     ]
    },
    {
     "name": "stdout",
     "output_type": "stream",
     "text": [
      "[VGG16] Fold 1, Epoch 2: Train Loss: 0.26 Acc: 0.90\n",
      "[VGG16] Fold 1, Epoch 2: Validation Loss: 0.49 Acc: 0.77\n",
      "\n",
      "Best model for VGG16 (Fold 1) saved at: bestmodelsV4\\fold1\\VGG16_2024-12-26_18-43-02.pth\n",
      "Epoch 1/2\n"
     ]
    },
    {
     "name": "stderr",
     "output_type": "stream",
     "text": [
      "Training: 100%|██████████████████████████████████████████████████████████████████████| 167/167 [00:39<00:00,  4.25it/s]\n"
     ]
    },
    {
     "name": "stdout",
     "output_type": "stream",
     "text": [
      "[ResNet-50] Fold 1, Epoch 1: Train Loss: 0.49 Acc: 0.77\n",
      "[ResNet-50] Fold 1, Epoch 1: Validation Loss: 0.52 Acc: 0.75\n",
      "\n",
      "Epoch 2/2\n"
     ]
    },
    {
     "name": "stderr",
     "output_type": "stream",
     "text": [
      "Training: 100%|██████████████████████████████████████████████████████████████████████| 167/167 [00:39<00:00,  4.22it/s]\n"
     ]
    },
    {
     "name": "stdout",
     "output_type": "stream",
     "text": [
      "[ResNet-50] Fold 1, Epoch 2: Train Loss: 0.38 Acc: 0.84\n",
      "[ResNet-50] Fold 1, Epoch 2: Validation Loss: 0.46 Acc: 0.77\n",
      "\n",
      "Best model for ResNet-50 (Fold 1) saved at: bestmodelsV4\\fold1\\ResNet-50_2024-12-26_18-48-28.pth\n",
      "Epoch 1/2\n"
     ]
    },
    {
     "name": "stderr",
     "output_type": "stream",
     "text": [
      "Training: 100%|██████████████████████████████████████████████████████████████████████| 167/167 [06:28<00:00,  2.33s/it]\n"
     ]
    },
    {
     "name": "stdout",
     "output_type": "stream",
     "text": [
      "[DenseNet121] Fold 1, Epoch 1: Train Loss: 0.30 Acc: 0.87\n",
      "[DenseNet121] Fold 1, Epoch 1: Validation Loss: 1.02 Acc: 0.56\n",
      "\n",
      "Epoch 2/2\n"
     ]
    },
    {
     "name": "stderr",
     "output_type": "stream",
     "text": [
      "Training: 100%|██████████████████████████████████████████████████████████████████████| 167/167 [06:33<00:00,  2.35s/it]\n"
     ]
    },
    {
     "name": "stdout",
     "output_type": "stream",
     "text": [
      "[DenseNet121] Fold 1, Epoch 2: Train Loss: 0.11 Acc: 0.96\n",
      "[DenseNet121] Fold 1, Epoch 2: Validation Loss: 0.28 Acc: 0.89\n",
      "\n",
      "Best model for DenseNet121 (Fold 1) saved at: bestmodelsV4\\fold1\\DenseNet121_2024-12-26_19-02-13.pth\n",
      "Epoch 1/2\n"
     ]
    },
    {
     "name": "stderr",
     "output_type": "stream",
     "text": [
      "Training: 100%|██████████████████████████████████████████████████████████████████████| 167/167 [00:43<00:00,  3.85it/s]\n"
     ]
    },
    {
     "name": "stdout",
     "output_type": "stream",
     "text": [
      "[MobileNet] Fold 1, Epoch 1: Train Loss: 0.33 Acc: 0.85\n",
      "[MobileNet] Fold 1, Epoch 1: Validation Loss: 0.27 Acc: 0.90\n",
      "\n",
      "Epoch 2/2\n"
     ]
    },
    {
     "name": "stderr",
     "output_type": "stream",
     "text": [
      "Training: 100%|██████████████████████████████████████████████████████████████████████| 167/167 [00:43<00:00,  3.86it/s]\n"
     ]
    },
    {
     "name": "stdout",
     "output_type": "stream",
     "text": [
      "[MobileNet] Fold 1, Epoch 2: Train Loss: 0.14 Acc: 0.95\n",
      "[MobileNet] Fold 1, Epoch 2: Validation Loss: 0.10 Acc: 0.96\n",
      "\n",
      "Best model for MobileNet (Fold 1) saved at: bestmodelsV4\\fold1\\MobileNet_2024-12-26_19-04-15.pth\n",
      "Fold 2/3\n",
      "Epoch 1/2\n"
     ]
    },
    {
     "name": "stderr",
     "output_type": "stream",
     "text": [
      "Training: 100%|██████████████████████████████████████████████████████████████████████| 167/167 [02:16<00:00,  1.22it/s]\n"
     ]
    },
    {
     "name": "stdout",
     "output_type": "stream",
     "text": [
      "[VGG16] Fold 2, Epoch 1: Train Loss: 0.51 Acc: 0.76\n",
      "[VGG16] Fold 2, Epoch 1: Validation Loss: 0.79 Acc: 0.56\n",
      "\n",
      "Epoch 2/2\n"
     ]
    },
    {
     "name": "stderr",
     "output_type": "stream",
     "text": [
      "Training: 100%|██████████████████████████████████████████████████████████████████████| 167/167 [02:16<00:00,  1.22it/s]\n"
     ]
    },
    {
     "name": "stdout",
     "output_type": "stream",
     "text": [
      "[VGG16] Fold 2, Epoch 2: Train Loss: 0.29 Acc: 0.88\n",
      "[VGG16] Fold 2, Epoch 2: Validation Loss: 0.69 Acc: 0.68\n",
      "\n",
      "Best model for VGG16 (Fold 2) saved at: bestmodelsV4\\fold2\\VGG16_2024-12-26_19-10-19.pth\n",
      "Epoch 1/2\n"
     ]
    },
    {
     "name": "stderr",
     "output_type": "stream",
     "text": [
      "Training: 100%|██████████████████████████████████████████████████████████████████████| 167/167 [00:39<00:00,  4.20it/s]\n"
     ]
    },
    {
     "name": "stdout",
     "output_type": "stream",
     "text": [
      "[ResNet-50] Fold 2, Epoch 1: Train Loss: 0.50 Acc: 0.76\n",
      "[ResNet-50] Fold 2, Epoch 1: Validation Loss: 0.46 Acc: 0.80\n",
      "\n",
      "Epoch 2/2\n"
     ]
    },
    {
     "name": "stderr",
     "output_type": "stream",
     "text": [
      "Training: 100%|██████████████████████████████████████████████████████████████████████| 167/167 [00:40<00:00,  4.17it/s]\n"
     ]
    },
    {
     "name": "stdout",
     "output_type": "stream",
     "text": [
      "[ResNet-50] Fold 2, Epoch 2: Train Loss: 0.39 Acc: 0.84\n",
      "[ResNet-50] Fold 2, Epoch 2: Validation Loss: 0.65 Acc: 0.64\n",
      "\n",
      "Best model for ResNet-50 (Fold 2) saved at: bestmodelsV4\\fold2\\ResNet-50_2024-12-26_19-13-36.pth\n",
      "Epoch 1/2\n"
     ]
    },
    {
     "name": "stderr",
     "output_type": "stream",
     "text": [
      "Training: 100%|██████████████████████████████████████████████████████████████████████| 167/167 [06:34<00:00,  2.36s/it]\n"
     ]
    },
    {
     "name": "stdout",
     "output_type": "stream",
     "text": [
      "[DenseNet121] Fold 2, Epoch 1: Train Loss: 0.31 Acc: 0.86\n",
      "[DenseNet121] Fold 2, Epoch 1: Validation Loss: 0.26 Acc: 0.89\n",
      "\n",
      "Epoch 2/2\n"
     ]
    },
    {
     "name": "stderr",
     "output_type": "stream",
     "text": [
      "Training: 100%|██████████████████████████████████████████████████████████████████████| 167/167 [08:25<00:00,  3.03s/it]\n"
     ]
    },
    {
     "name": "stdout",
     "output_type": "stream",
     "text": [
      "[DenseNet121] Fold 2, Epoch 2: Train Loss: 0.10 Acc: 0.96\n",
      "[DenseNet121] Fold 2, Epoch 2: Validation Loss: 0.31 Acc: 0.88\n",
      "\n",
      "Best model for DenseNet121 (Fold 2) saved at: bestmodelsV4\\fold2\\DenseNet121_2024-12-26_19-29-20.pth\n",
      "Epoch 1/2\n"
     ]
    },
    {
     "name": "stderr",
     "output_type": "stream",
     "text": [
      "Training: 100%|██████████████████████████████████████████████████████████████████████| 167/167 [00:46<00:00,  3.62it/s]\n"
     ]
    },
    {
     "name": "stdout",
     "output_type": "stream",
     "text": [
      "[MobileNet] Fold 2, Epoch 1: Train Loss: 0.34 Acc: 0.85\n",
      "[MobileNet] Fold 2, Epoch 1: Validation Loss: 0.41 Acc: 0.86\n",
      "\n",
      "Epoch 2/2\n"
     ]
    },
    {
     "name": "stderr",
     "output_type": "stream",
     "text": [
      "Training: 100%|██████████████████████████████████████████████████████████████████████| 167/167 [00:45<00:00,  3.70it/s]\n"
     ]
    },
    {
     "name": "stdout",
     "output_type": "stream",
     "text": [
      "[MobileNet] Fold 2, Epoch 2: Train Loss: 0.15 Acc: 0.94\n",
      "[MobileNet] Fold 2, Epoch 2: Validation Loss: 0.11 Acc: 0.96\n",
      "\n",
      "Best model for MobileNet (Fold 2) saved at: bestmodelsV4\\fold2\\MobileNet_2024-12-26_19-31-29.pth\n",
      "Fold 3/3\n",
      "Epoch 1/2\n"
     ]
    },
    {
     "name": "stderr",
     "output_type": "stream",
     "text": [
      "Training: 100%|██████████████████████████████████████████████████████████████████████| 167/167 [02:18<00:00,  1.20it/s]\n"
     ]
    },
    {
     "name": "stdout",
     "output_type": "stream",
     "text": [
      "[VGG16] Fold 3, Epoch 1: Train Loss: 0.50 Acc: 0.76\n",
      "[VGG16] Fold 3, Epoch 1: Validation Loss: 0.50 Acc: 0.73\n",
      "\n",
      "Epoch 2/2\n"
     ]
    },
    {
     "name": "stderr",
     "output_type": "stream",
     "text": [
      "Training: 100%|██████████████████████████████████████████████████████████████████████| 167/167 [02:19<00:00,  1.20it/s]\n"
     ]
    },
    {
     "name": "stdout",
     "output_type": "stream",
     "text": [
      "[VGG16] Fold 3, Epoch 2: Train Loss: 0.26 Acc: 0.90\n",
      "[VGG16] Fold 3, Epoch 2: Validation Loss: 0.92 Acc: 0.59\n",
      "\n",
      "Best model for VGG16 (Fold 3) saved at: bestmodelsV4\\fold3\\VGG16_2024-12-26_19-37-41.pth\n",
      "Epoch 1/2\n"
     ]
    },
    {
     "name": "stderr",
     "output_type": "stream",
     "text": [
      "Training: 100%|██████████████████████████████████████████████████████████████████████| 167/167 [00:40<00:00,  4.12it/s]\n"
     ]
    },
    {
     "name": "stdout",
     "output_type": "stream",
     "text": [
      "[ResNet-50] Fold 3, Epoch 1: Train Loss: 0.49 Acc: 0.76\n",
      "[ResNet-50] Fold 3, Epoch 1: Validation Loss: 0.55 Acc: 0.72\n",
      "\n",
      "Epoch 2/2\n"
     ]
    },
    {
     "name": "stderr",
     "output_type": "stream",
     "text": [
      "Training: 100%|██████████████████████████████████████████████████████████████████████| 167/167 [00:40<00:00,  4.12it/s]\n"
     ]
    },
    {
     "name": "stdout",
     "output_type": "stream",
     "text": [
      "[ResNet-50] Fold 3, Epoch 2: Train Loss: 0.38 Acc: 0.84\n",
      "[ResNet-50] Fold 3, Epoch 2: Validation Loss: 0.60 Acc: 0.69\n",
      "\n",
      "Best model for ResNet-50 (Fold 3) saved at: bestmodelsV4\\fold3\\ResNet-50_2024-12-26_19-41-01.pth\n",
      "Epoch 1/2\n"
     ]
    },
    {
     "name": "stderr",
     "output_type": "stream",
     "text": [
      "Training: 100%|██████████████████████████████████████████████████████████████████████| 167/167 [06:39<00:00,  2.40s/it]\n"
     ]
    },
    {
     "name": "stdout",
     "output_type": "stream",
     "text": [
      "[DenseNet121] Fold 3, Epoch 1: Train Loss: 0.29 Acc: 0.87\n",
      "[DenseNet121] Fold 3, Epoch 1: Validation Loss: 0.20 Acc: 0.93\n",
      "\n",
      "Epoch 2/2\n"
     ]
    },
    {
     "name": "stderr",
     "output_type": "stream",
     "text": [
      "Training: 100%|██████████████████████████████████████████████████████████████████████| 167/167 [06:26<00:00,  2.31s/it]\n"
     ]
    },
    {
     "name": "stdout",
     "output_type": "stream",
     "text": [
      "[DenseNet121] Fold 3, Epoch 2: Train Loss: 0.12 Acc: 0.95\n",
      "[DenseNet121] Fold 3, Epoch 2: Validation Loss: 0.29 Acc: 0.89\n",
      "\n",
      "Best model for DenseNet121 (Fold 3) saved at: bestmodelsV4\\fold3\\DenseNet121_2024-12-26_19-54-51.pth\n",
      "Epoch 1/2\n"
     ]
    },
    {
     "name": "stderr",
     "output_type": "stream",
     "text": [
      "Training: 100%|██████████████████████████████████████████████████████████████████████| 167/167 [00:43<00:00,  3.86it/s]\n"
     ]
    },
    {
     "name": "stdout",
     "output_type": "stream",
     "text": [
      "[MobileNet] Fold 3, Epoch 1: Train Loss: 0.33 Acc: 0.86\n",
      "[MobileNet] Fold 3, Epoch 1: Validation Loss: 1.32 Acc: 0.56\n",
      "\n",
      "Epoch 2/2\n"
     ]
    },
    {
     "name": "stderr",
     "output_type": "stream",
     "text": [
      "Training: 100%|██████████████████████████████████████████████████████████████████████| 167/167 [00:43<00:00,  3.86it/s]\n"
     ]
    },
    {
     "name": "stdout",
     "output_type": "stream",
     "text": [
      "[MobileNet] Fold 3, Epoch 2: Train Loss: 0.15 Acc: 0.94\n",
      "[MobileNet] Fold 3, Epoch 2: Validation Loss: 0.18 Acc: 0.93\n",
      "\n",
      "Best model for MobileNet (Fold 3) saved at: bestmodelsV4\\fold3\\MobileNet_2024-12-26_19-56-53.pth\n"
     ]
    }
   ],
   "source": [
    "results = {model_name: [] for model_name in our_models}\n",
    "train_val_hist = []\n",
    "\n",
    "for fold, (train_idx, test_idx) in enumerate(kf.split(dataset)):\n",
    "    print(f\"Fold {fold+1}/{n_splits}\")\n",
    "\n",
    "    train_set = Subset(dataset, train_idx)\n",
    "    test_set = Subset(dataset, test_idx)\n",
    "    val_split = int(len(train_set) * 0.8)\n",
    "    val_set = Subset(train_set, range(val_split, len(train_set)))\n",
    "    train_set = Subset(train_set, range(0, val_split))\n",
    "\n",
    "    train_loader = DataLoader(train_set, batch_size=32, shuffle=True)\n",
    "    val_loader = DataLoader(val_set, batch_size=32, shuffle=False)\n",
    "    test_loader = DataLoader(test_set, batch_size=32, shuffle=False)\n",
    "    \n",
    "    for model_name in our_models:\n",
    "        num_classes = len(dataset.classes)\n",
    "        \n",
    "        # Initializing the model every time ensures that no previous model parameters are retained\n",
    "        model = initialize_model(model_name, num_classes)\n",
    "\n",
    "        # getting best lr for each model\n",
    "        l_r = get_learning_rate(model_name)\n",
    "\n",
    "        criterion = torch.nn.CrossEntropyLoss()\n",
    "        optimizer = Adam(model.parameters(), lr=l_r) \n",
    "\n",
    "        model , train_val_history = train_validate_model(model, criterion, optimizer, train_loader, val_loader, fold, model_name, num_epochs=2)\n",
    "        train_val_hist.append(train_val_history)\n",
    "        \n",
    "        # Test the model\n",
    "        model.eval()\n",
    "        y_true, y_pred = [], []\n",
    "        with torch.no_grad():\n",
    "            for images, labels in test_loader:\n",
    "                images, labels = images.cuda(), labels.cuda() if torch.cuda.is_available() else (images, labels)\n",
    "                outputs = model(images)\n",
    "                y_true.extend(labels.cpu().numpy())\n",
    "                y_pred.extend(outputs.argmax(1).cpu().numpy())\n",
    "\n",
    "        cm, acc, prec, rec, f1 = performance_matrix(y_true, y_pred)\n",
    "\n",
    "        results[model_name].append({\n",
    "            \"confusion_matrix\": cm,\n",
    "            \"accuracy\": acc,\n",
    "            \"precision\": prec,\n",
    "            \"recall\": rec,\n",
    "            \"f1_score\": f1\n",
    "        })"
   ]
  },
  {
   "cell_type": "markdown",
   "id": "a15c0c5f-827e-4ed3-9b20-8f35a05df8c6",
   "metadata": {},
   "source": [
    "# results"
   ]
  },
  {
   "cell_type": "code",
   "execution_count": 33,
   "id": "3ba87f6b-e98d-4975-9993-2621b5bfb312",
   "metadata": {},
   "outputs": [
    {
     "name": "stdout",
     "output_type": "stream",
     "text": [
      "Results for VGG16:\n",
      "  Fold 1:\n",
      "    Confusion Matrix:\n",
      "[[1498  194]\n",
      " [ 357 1285]]\n",
      "    Accuracy: 0.8347\n",
      "    Precision: 0.8377\n",
      "    Recall: 0.8347\n",
      "    F1 Score: 0.8342\n",
      "  Fold 2:\n",
      "    Confusion Matrix:\n",
      "[[1621   77]\n",
      " [ 536 1099]]\n",
      "    Accuracy: 0.8161\n",
      "    Precision: 0.8413\n",
      "    Recall: 0.8161\n",
      "    F1 Score: 0.8120\n",
      "  Fold 3:\n",
      "    Confusion Matrix:\n",
      "[[1549   61]\n",
      " [ 698 1025]]\n",
      "    Accuracy: 0.7723\n",
      "    Precision: 0.8209\n",
      "    Recall: 0.7723\n",
      "    F1 Score: 0.7653\n",
      "  Averages:\n",
      "    Accuracy: 0.8077\n",
      "    Precision: 0.8333\n",
      "    Recall: 0.8077\n",
      "    F1 Score: 0.8038\n",
      "Results for ResNet-50:\n",
      "  Fold 1:\n",
      "    Confusion Matrix:\n",
      "[[1490  202]\n",
      " [ 315 1327]]\n",
      "    Accuracy: 0.8449\n",
      "    Precision: 0.8464\n",
      "    Recall: 0.8449\n",
      "    F1 Score: 0.8447\n",
      "  Fold 2:\n",
      "    Confusion Matrix:\n",
      "[[1620   78]\n",
      " [ 641  994]]\n",
      "    Accuracy: 0.7843\n",
      "    Precision: 0.8199\n",
      "    Recall: 0.7843\n",
      "    F1 Score: 0.7772\n",
      "  Fold 3:\n",
      "    Confusion Matrix:\n",
      "[[1501  109]\n",
      " [ 585 1138]]\n",
      "    Accuracy: 0.7918\n",
      "    Precision: 0.8193\n",
      "    Recall: 0.7918\n",
      "    F1 Score: 0.7885\n",
      "  Averages:\n",
      "    Accuracy: 0.8070\n",
      "    Precision: 0.8285\n",
      "    Recall: 0.8070\n",
      "    F1 Score: 0.8035\n",
      "Results for DenseNet121:\n",
      "  Fold 1:\n",
      "    Confusion Matrix:\n",
      "[[1660   32]\n",
      " [ 180 1462]]\n",
      "    Accuracy: 0.9364\n",
      "    Precision: 0.9398\n",
      "    Recall: 0.9364\n",
      "    F1 Score: 0.9362\n",
      "  Fold 2:\n",
      "    Confusion Matrix:\n",
      "[[1605   93]\n",
      " [ 180 1455]]\n",
      "    Accuracy: 0.9181\n",
      "    Precision: 0.9192\n",
      "    Recall: 0.9181\n",
      "    F1 Score: 0.9180\n",
      "  Fold 3:\n",
      "    Confusion Matrix:\n",
      "[[1515   95]\n",
      " [ 235 1488]]\n",
      "    Accuracy: 0.9010\n",
      "    Precision: 0.9041\n",
      "    Recall: 0.9010\n",
      "    F1 Score: 0.9010\n",
      "  Averages:\n",
      "    Accuracy: 0.9185\n",
      "    Precision: 0.9210\n",
      "    Recall: 0.9185\n",
      "    F1 Score: 0.9184\n",
      "Results for MobileNet:\n",
      "  Fold 1:\n",
      "    Confusion Matrix:\n",
      "[[1615   77]\n",
      " [  76 1566]]\n",
      "    Accuracy: 0.9541\n",
      "    Precision: 0.9541\n",
      "    Recall: 0.9541\n",
      "    F1 Score: 0.9541\n",
      "  Fold 2:\n",
      "    Confusion Matrix:\n",
      "[[1580  118]\n",
      " [  54 1581]]\n",
      "    Accuracy: 0.9484\n",
      "    Precision: 0.9491\n",
      "    Recall: 0.9484\n",
      "    F1 Score: 0.9484\n",
      "  Fold 3:\n",
      "    Confusion Matrix:\n",
      "[[1534   76]\n",
      " [ 143 1580]]\n",
      "    Accuracy: 0.9343\n",
      "    Precision: 0.9351\n",
      "    Recall: 0.9343\n",
      "    F1 Score: 0.9343\n",
      "  Averages:\n",
      "    Accuracy: 0.9456\n",
      "    Precision: 0.9461\n",
      "    Recall: 0.9456\n",
      "    F1 Score: 0.9456\n"
     ]
    }
   ],
   "source": [
    "for model_name, metrics in results.items():\n",
    "    print(f\"Results for {model_name}:\")\n",
    "    for fold_idx, fold_metrics in enumerate(metrics):\n",
    "        print(f\"  Fold {fold_idx+1}:\")\n",
    "        print(f\"    Confusion Matrix:\\n{fold_metrics['confusion_matrix']}\")\n",
    "        print(f\"    Accuracy: {fold_metrics['accuracy']:.4f}\")\n",
    "        print(f\"    Precision: {fold_metrics['precision']:.4f}\")\n",
    "        print(f\"    Recall: {fold_metrics['recall']:.4f}\")\n",
    "        print(f\"    F1 Score: {fold_metrics['f1_score']:.4f}\")\n",
    "\n",
    "    # Calculate averages\n",
    "    avg_acc = np.mean([m[\"accuracy\"] for m in metrics])\n",
    "    avg_prec = np.mean([m[\"precision\"] for m in metrics])\n",
    "    avg_rec = np.mean([m[\"recall\"] for m in metrics])\n",
    "    avg_f1 = np.mean([m[\"f1_score\"] for m in metrics])\n",
    "\n",
    "    print(f\"  Averages:\")\n",
    "    print(f\"    Accuracy: {avg_acc:.4f}\")\n",
    "    print(f\"    Precision: {avg_prec:.4f}\")\n",
    "    print(f\"    Recall: {avg_rec:.4f}\")\n",
    "    print(f\"    F1 Score: {avg_f1:.4f}\")"
   ]
  },
  {
   "cell_type": "markdown",
   "id": "2ba68f6f-4d58-4cb6-90b8-8aa8b9b56e7f",
   "metadata": {},
   "source": [
    "## confusion matrix"
   ]
  },
  {
   "cell_type": "code",
   "execution_count": 34,
   "id": "a614e682-e6a6-4480-99a5-624a21f6ac7e",
   "metadata": {},
   "outputs": [
    {
     "name": "stdout",
     "output_type": "stream",
     "text": [
      "Results for VGG16:\n"
     ]
    },
    {
     "data": {
      "image/png": "[encoded data removed]",
      "text/plain": [
       "<Figure size 800x600 with 2 Axes>"
      ]
     },
     "metadata": {},
     "output_type": "display_data"
    },
    {
     "name": "stdout",
     "output_type": "stream",
     "text": [
      "Results for ResNet-50:\n"
     ]
    },
    {
     "data": {
      "image/png": "[encoded data removed]",
      "text/plain": [
       "<Figure size 800x600 with 2 Axes>"
      ]
     },
     "metadata": {},
     "output_type": "display_data"
    },
    {
     "name": "stdout",
     "output_type": "stream",
     "text": [
      "Results for DenseNet121:\n"
     ]
    },
    {
     "data": {
      "image/png": "[encoded data removed]",
      "text/plain": [
       "<Figure size 800x600 with 2 Axes>"
      ]
     },
     "metadata": {},
     "output_type": "display_data"
    },
    {
     "name": "stdout",
     "output_type": "stream",
     "text": [
      "Results for MobileNet:\n"
     ]
    },
    {
     "data": {
      "image/png": "[encoded data removed]",
      "text/plain": [
       "<Figure size 800x600 with 2 Axes>"
      ]
     },
     "metadata": {},
     "output_type": "display_data"
    }
   ],
   "source": [
    "class_names = dataset.classes  \n",
    "\n",
    "for model_name, metrics in results.items():\n",
    "    print(f\"Results for {model_name}:\")\n",
    "    sum_of_cms = 0\n",
    "    for fold_idx, fold_metrics in enumerate(metrics):\n",
    "        sum_of_cms+= fold_metrics['confusion_matrix']\n",
    "        \n",
    "    plot_heatmap(sum_of_cms, class_names, model_name)"
   ]
  },
  {
   "cell_type": "markdown",
   "id": "235ca1c1-2fb5-47ea-bf70-9905447c267e",
   "metadata": {},
   "source": [
    "# bar charts"
   ]
  },
  {
   "cell_type": "code",
   "execution_count": 35,
   "id": "5936d69f-ebe8-42c0-9281-da860e3f257a",
   "metadata": {},
   "outputs": [
    {
     "data": {
      "image/png": "[encoded data removed]",
      "text/plain": [
       "<Figure size 1000x600 with 1 Axes>"
      ]
     },
     "metadata": {},
     "output_type": "display_data"
    }
   ],
   "source": [
    "models = list(results.keys())\n",
    "metrics = [\"accuracy\", \"precision\", \"recall\", \"f1_score\"]\n",
    "avg_metrics = {model: [\n",
    "    np.mean([fold[metric] for fold in results[model]]) for metric in metrics\n",
    "] for model in models}\n",
    "fold_metrics = {model: [\n",
    "    [fold[metric] for metric in metrics] for fold in results[model]\n",
    "] for model in models}\n",
    "conf_matrices = {model: [\n",
    "    np.array(fold[\"confusion_matrix\"]) for fold in results[model]\n",
    "] for model in models}\n",
    "\n",
    "plt.figure(figsize=(10, 6))\n",
    "x = np.arange(len(metrics))\n",
    "width = 0.2\n",
    "\n",
    "for i, model in enumerate(models):\n",
    "    plt.bar(x + i * width, avg_metrics[model], width, label=model)\n",
    "\n",
    "plt.xticks(x + width, metrics)\n",
    "plt.ylabel('Score')\n",
    "plt.title('Average Performance Metrics by Model')\n",
    "plt.legend()\n",
    "plt.grid(axis='y', linestyle='--', alpha=0.7)\n",
    "plt.tight_layout()\n",
    "plt.show()"
   ]
  },
  {
   "cell_type": "markdown",
   "id": "8857a002-a924-485e-9e84-4c5de39e22c8",
   "metadata": {},
   "source": [
    "# Adding convolution layer to each model"
   ]
  },
  {
   "cell_type": "code",
   "execution_count": 40,
   "id": "f696e45d-e7b1-4ccd-a068-84dcf86db83d",
   "metadata": {},
   "outputs": [],
   "source": [
    "def initialize_model(model_name, num_classes):\n",
    "    if model_name == \"VGG16\":\n",
    "        model = vgg16(weights=VGG16_Weights.DEFAULT)  # Load the most up-to-date weights for VGG16\n",
    "        for param in model.parameters():\n",
    "            param.requires_grad = False\n",
    "        num_ftrs = model.classifier[6].in_features\n",
    "        model.classifier[6] = nn.Linear(num_ftrs, num_classes)\n",
    "        model.features.add_module(\"extra_conv\", nn.Conv2d(512, 512, kernel_size=3, padding=1))  \n",
    "    elif model_name == \"ResNet-50\":\n",
    "        model = resnet50(weights=ResNet50_Weights.DEFAULT)  # Load the most up-to-date weights for ResNet-50\n",
    "        for param in model.parameters():\n",
    "            param.requires_grad = False\n",
    "        num_ftrs = model.fc.in_features\n",
    "        model.fc = nn.Linear(num_ftrs, num_classes)\n",
    "        model.layer4.add_module(\"extra_conv\", nn.Conv2d(2048, 2048, kernel_size=3, padding=1))  \n",
    "    elif model_name == \"DenseNet121\":\n",
    "        model = densenet121(weights=DenseNet121_Weights.DEFAULT)  # Load the most up-to-date weights for DenseNet121\n",
    "        for param in model.parameters():\n",
    "            param.requires_grad = False\n",
    "        num_ftrs = model.classifier.in_features\n",
    "        model.classifier = nn.Linear(num_ftrs, num_classes)\n",
    "        model.features.add_module(\"extra_conv\", nn.Conv2d(1024, 1024, kernel_size=3, padding=1))  # Add extra conv layer\n",
    "    elif model_name == \"MobileNet\":\n",
    "        model = mobilenet_v2(weights=MobileNet_V2_Weights.DEFAULT)  # Load the most up-to-date weights for MobileNet\n",
    "        for param in model.parameters():\n",
    "            param.requires_grad = False\n",
    "        num_ftrs = model.last_channel\n",
    "        model.classifier[1] = nn.Linear(num_ftrs, num_classes)\n",
    "        model.features.add_module(\"extra_conv\", nn.Conv2d(1280, 1280, kernel_size=3, padding=1))  \n",
    "    else:\n",
    "        print(f\"Error: Model '{model_name}' not supported.\")\n",
    "        return None\n",
    "\n",
    "    for param in model.parameters():\n",
    "        param.requires_grad = True\n",
    "\n",
    "    return model"
   ]
  },
  {
   "cell_type": "code",
   "execution_count": 41,
   "id": "9d4b46de-10d7-4f4e-af2c-ebe8d9a00cbd",
   "metadata": {},
   "outputs": [
    {
     "name": "stdout",
     "output_type": "stream",
     "text": [
      "Fold 1/3\n",
      "Epoch 1/3\n"
     ]
    },
    {
     "name": "stderr",
     "output_type": "stream",
     "text": [
      "Training: 100%|██████████████████████████████████████████████████████████████████████| 167/167 [13:14<00:00,  4.76s/it]\n"
     ]
    },
    {
     "name": "stdout",
     "output_type": "stream",
     "text": [
      "[VGG16] Fold 1, Epoch 1: Train Loss: 0.43 Acc: 0.79\n",
      "[VGG16] Fold 1, Epoch 1: Validation Loss: 0.19 Acc: 0.92\n",
      "\n",
      "Epoch 2/3\n"
     ]
    },
    {
     "name": "stderr",
     "output_type": "stream",
     "text": [
      "Training: 100%|██████████████████████████████████████████████████████████████████████| 167/167 [13:12<00:00,  4.74s/it]\n"
     ]
    },
    {
     "name": "stdout",
     "output_type": "stream",
     "text": [
      "[VGG16] Fold 1, Epoch 2: Train Loss: 0.16 Acc: 0.94\n",
      "[VGG16] Fold 1, Epoch 2: Validation Loss: 0.78 Acc: 0.74\n",
      "\n",
      "Epoch 3/3\n"
     ]
    },
    {
     "name": "stderr",
     "output_type": "stream",
     "text": [
      "Training: 100%|██████████████████████████████████████████████████████████████████████| 167/167 [13:12<00:00,  4.74s/it]\n"
     ]
    },
    {
     "name": "stdout",
     "output_type": "stream",
     "text": [
      "[VGG16] Fold 1, Epoch 3: Train Loss: 0.12 Acc: 0.96\n",
      "[VGG16] Fold 1, Epoch 3: Validation Loss: 0.05 Acc: 0.99\n",
      "\n",
      "Best model for VGG16 (Fold 1) saved at: bestmodelsV4\\fold1\\VGG16_2024-12-26_22-35-04.pth\n",
      "Epoch 1/3\n"
     ]
    },
    {
     "name": "stderr",
     "output_type": "stream",
     "text": [
      "Training: 100%|██████████████████████████████████████████████████████████████████████| 167/167 [09:55<00:00,  3.57s/it]\n"
     ]
    },
    {
     "name": "stdout",
     "output_type": "stream",
     "text": [
      "[ResNet-50] Fold 1, Epoch 1: Train Loss: 0.54 Acc: 0.76\n",
      "[ResNet-50] Fold 1, Epoch 1: Validation Loss: 1.41 Acc: 0.60\n",
      "\n",
      "Epoch 2/3\n"
     ]
    },
    {
     "name": "stderr",
     "output_type": "stream",
     "text": [
      "Training: 100%|██████████████████████████████████████████████████████████████████████| 167/167 [10:05<00:00,  3.63s/it]\n"
     ]
    },
    {
     "name": "stdout",
     "output_type": "stream",
     "text": [
      "[ResNet-50] Fold 1, Epoch 2: Train Loss: 0.28 Acc: 0.89\n",
      "[ResNet-50] Fold 1, Epoch 2: Validation Loss: 0.21 Acc: 0.93\n",
      "\n",
      "Epoch 3/3\n"
     ]
    },
    {
     "name": "stderr",
     "output_type": "stream",
     "text": [
      "Training: 100%|██████████████████████████████████████████████████████████████████████| 167/167 [09:57<00:00,  3.58s/it]\n"
     ]
    },
    {
     "name": "stdout",
     "output_type": "stream",
     "text": [
      "[ResNet-50] Fold 1, Epoch 3: Train Loss: 0.19 Acc: 0.93\n",
      "[ResNet-50] Fold 1, Epoch 3: Validation Loss: 0.25 Acc: 0.92\n",
      "\n",
      "Best model for ResNet-50 (Fold 1) saved at: bestmodelsV4\\fold1\\ResNet-50_2024-12-26_23-12-38.pth\n",
      "Epoch 1/3\n"
     ]
    },
    {
     "name": "stderr",
     "output_type": "stream",
     "text": [
      "Training: 100%|██████████████████████████████████████████████████████████████████████| 167/167 [11:13<00:00,  4.03s/it]\n"
     ]
    },
    {
     "name": "stdout",
     "output_type": "stream",
     "text": [
      "[DenseNet121] Fold 1, Epoch 1: Train Loss: 0.38 Acc: 0.83\n",
      "[DenseNet121] Fold 1, Epoch 1: Validation Loss: 0.96 Acc: 0.62\n",
      "\n",
      "Epoch 2/3\n"
     ]
    },
    {
     "name": "stderr",
     "output_type": "stream",
     "text": [
      "Training: 100%|██████████████████████████████████████████████████████████████████████| 167/167 [11:33<00:00,  4.15s/it]\n"
     ]
    },
    {
     "name": "stdout",
     "output_type": "stream",
     "text": [
      "[DenseNet121] Fold 1, Epoch 2: Train Loss: 0.14 Acc: 0.95\n",
      "[DenseNet121] Fold 1, Epoch 2: Validation Loss: 0.34 Acc: 0.86\n",
      "\n",
      "Epoch 3/3\n"
     ]
    },
    {
     "name": "stderr",
     "output_type": "stream",
     "text": [
      "Training: 100%|██████████████████████████████████████████████████████████████████████| 167/167 [11:42<00:00,  4.21s/it]\n"
     ]
    },
    {
     "name": "stdout",
     "output_type": "stream",
     "text": [
      "[DenseNet121] Fold 1, Epoch 3: Train Loss: 0.08 Acc: 0.97\n",
      "[DenseNet121] Fold 1, Epoch 3: Validation Loss: 1.00 Acc: 0.68\n",
      "\n",
      "Best model for DenseNet121 (Fold 1) saved at: bestmodelsV4\\fold1\\DenseNet121_2024-12-26_23-50-17.pth\n",
      "Epoch 1/3\n"
     ]
    },
    {
     "name": "stderr",
     "output_type": "stream",
     "text": [
      "Training: 100%|██████████████████████████████████████████████████████████████████████| 167/167 [00:52<00:00,  3.20it/s]\n"
     ]
    },
    {
     "name": "stdout",
     "output_type": "stream",
     "text": [
      "[MobileNet] Fold 1, Epoch 1: Train Loss: 0.75 Acc: 0.77\n",
      "[MobileNet] Fold 1, Epoch 1: Validation Loss: 0.10 Acc: 0.98\n",
      "\n",
      "Epoch 2/3\n"
     ]
    },
    {
     "name": "stderr",
     "output_type": "stream",
     "text": [
      "Training: 100%|██████████████████████████████████████████████████████████████████████| 167/167 [00:51<00:00,  3.23it/s]\n"
     ]
    },
    {
     "name": "stdout",
     "output_type": "stream",
     "text": [
      "[MobileNet] Fold 1, Epoch 2: Train Loss: 0.21 Acc: 0.92\n",
      "[MobileNet] Fold 1, Epoch 2: Validation Loss: 0.82 Acc: 0.65\n",
      "\n",
      "Epoch 3/3\n"
     ]
    },
    {
     "name": "stderr",
     "output_type": "stream",
     "text": [
      "Training: 100%|██████████████████████████████████████████████████████████████████████| 167/167 [00:51<00:00,  3.26it/s]\n"
     ]
    },
    {
     "name": "stdout",
     "output_type": "stream",
     "text": [
      "[MobileNet] Fold 1, Epoch 3: Train Loss: 0.11 Acc: 0.96\n",
      "[MobileNet] Fold 1, Epoch 3: Validation Loss: 0.11 Acc: 0.96\n",
      "\n",
      "Best model for MobileNet (Fold 1) saved at: bestmodelsV4\\fold1\\MobileNet_2024-12-26_23-53-40.pth\n",
      "Fold 2/3\n",
      "Epoch 1/3\n"
     ]
    },
    {
     "name": "stderr",
     "output_type": "stream",
     "text": [
      "Training: 100%|██████████████████████████████████████████████████████████████████████| 167/167 [13:21<00:00,  4.80s/it]\n"
     ]
    },
    {
     "name": "stdout",
     "output_type": "stream",
     "text": [
      "[VGG16] Fold 2, Epoch 1: Train Loss: 0.46 Acc: 0.78\n",
      "[VGG16] Fold 2, Epoch 1: Validation Loss: 0.20 Acc: 0.93\n",
      "\n",
      "Epoch 2/3\n"
     ]
    },
    {
     "name": "stderr",
     "output_type": "stream",
     "text": [
      "Training: 100%|██████████████████████████████████████████████████████████████████████| 167/167 [13:21<00:00,  4.80s/it]\n"
     ]
    },
    {
     "name": "stdout",
     "output_type": "stream",
     "text": [
      "[VGG16] Fold 2, Epoch 2: Train Loss: 0.16 Acc: 0.94\n",
      "[VGG16] Fold 2, Epoch 2: Validation Loss: 0.19 Acc: 0.91\n",
      "\n",
      "Epoch 3/3\n"
     ]
    },
    {
     "name": "stderr",
     "output_type": "stream",
     "text": [
      "Training: 100%|██████████████████████████████████████████████████████████████████████| 167/167 [13:14<00:00,  4.76s/it]\n"
     ]
    },
    {
     "name": "stdout",
     "output_type": "stream",
     "text": [
      "[VGG16] Fold 2, Epoch 3: Train Loss: 0.09 Acc: 0.96\n",
      "[VGG16] Fold 2, Epoch 3: Validation Loss: 0.07 Acc: 0.98\n",
      "\n",
      "Best model for VGG16 (Fold 2) saved at: bestmodelsV4\\fold2\\VGG16_2024-12-27_00-41-40.pth\n",
      "Epoch 1/3\n"
     ]
    },
    {
     "name": "stderr",
     "output_type": "stream",
     "text": [
      "Training: 100%|██████████████████████████████████████████████████████████████████████| 167/167 [12:30<00:00,  4.49s/it]\n"
     ]
    },
    {
     "name": "stdout",
     "output_type": "stream",
     "text": [
      "[ResNet-50] Fold 2, Epoch 1: Train Loss: 0.52 Acc: 0.77\n",
      "[ResNet-50] Fold 2, Epoch 1: Validation Loss: 0.20 Acc: 0.94\n",
      "\n",
      "Epoch 2/3\n"
     ]
    },
    {
     "name": "stderr",
     "output_type": "stream",
     "text": [
      "Training: 100%|██████████████████████████████████████████████████████████████████████| 167/167 [12:38<00:00,  4.54s/it]\n"
     ]
    },
    {
     "name": "stdout",
     "output_type": "stream",
     "text": [
      "[ResNet-50] Fold 2, Epoch 2: Train Loss: 0.25 Acc: 0.90\n",
      "[ResNet-50] Fold 2, Epoch 2: Validation Loss: 0.45 Acc: 0.81\n",
      "\n",
      "Epoch 3/3\n"
     ]
    },
    {
     "name": "stderr",
     "output_type": "stream",
     "text": [
      "Training: 100%|██████████████████████████████████████████████████████████████████████| 167/167 [12:45<00:00,  4.58s/it]\n"
     ]
    },
    {
     "name": "stdout",
     "output_type": "stream",
     "text": [
      "[ResNet-50] Fold 2, Epoch 3: Train Loss: 0.17 Acc: 0.94\n",
      "[ResNet-50] Fold 2, Epoch 3: Validation Loss: 0.23 Acc: 0.93\n",
      "\n",
      "Best model for ResNet-50 (Fold 2) saved at: bestmodelsV4\\fold2\\ResNet-50_2024-12-27_01-26-42.pth\n",
      "Epoch 1/3\n"
     ]
    },
    {
     "name": "stderr",
     "output_type": "stream",
     "text": [
      "Training: 100%|██████████████████████████████████████████████████████████████████████| 167/167 [11:36<00:00,  4.17s/it]\n"
     ]
    },
    {
     "name": "stdout",
     "output_type": "stream",
     "text": [
      "[DenseNet121] Fold 2, Epoch 1: Train Loss: 0.33 Acc: 0.86\n",
      "[DenseNet121] Fold 2, Epoch 1: Validation Loss: 0.26 Acc: 0.90\n",
      "\n",
      "Epoch 2/3\n"
     ]
    },
    {
     "name": "stderr",
     "output_type": "stream",
     "text": [
      "Training: 100%|██████████████████████████████████████████████████████████████████████| 167/167 [11:35<00:00,  4.17s/it]\n"
     ]
    },
    {
     "name": "stdout",
     "output_type": "stream",
     "text": [
      "[DenseNet121] Fold 2, Epoch 2: Train Loss: 0.15 Acc: 0.94\n",
      "[DenseNet121] Fold 2, Epoch 2: Validation Loss: 0.26 Acc: 0.90\n",
      "\n",
      "Epoch 3/3\n"
     ]
    },
    {
     "name": "stderr",
     "output_type": "stream",
     "text": [
      "Training: 100%|██████████████████████████████████████████████████████████████████████| 167/167 [11:34<00:00,  4.16s/it]\n"
     ]
    },
    {
     "name": "stdout",
     "output_type": "stream",
     "text": [
      "[DenseNet121] Fold 2, Epoch 3: Train Loss: 0.07 Acc: 0.98\n",
      "[DenseNet121] Fold 2, Epoch 3: Validation Loss: 0.57 Acc: 0.77\n",
      "\n",
      "Best model for DenseNet121 (Fold 2) saved at: bestmodelsV4\\fold2\\DenseNet121_2024-12-27_02-02-25.pth\n",
      "Epoch 1/3\n"
     ]
    },
    {
     "name": "stderr",
     "output_type": "stream",
     "text": [
      "Training: 100%|██████████████████████████████████████████████████████████████████████| 167/167 [00:49<00:00,  3.40it/s]\n"
     ]
    },
    {
     "name": "stdout",
     "output_type": "stream",
     "text": [
      "[MobileNet] Fold 2, Epoch 1: Train Loss: 0.58 Acc: 0.81\n",
      "[MobileNet] Fold 2, Epoch 1: Validation Loss: 0.11 Acc: 0.96\n",
      "\n",
      "Epoch 2/3\n"
     ]
    },
    {
     "name": "stderr",
     "output_type": "stream",
     "text": [
      "Training: 100%|██████████████████████████████████████████████████████████████████████| 167/167 [00:49<00:00,  3.38it/s]\n"
     ]
    },
    {
     "name": "stdout",
     "output_type": "stream",
     "text": [
      "[MobileNet] Fold 2, Epoch 2: Train Loss: 0.18 Acc: 0.93\n",
      "[MobileNet] Fold 2, Epoch 2: Validation Loss: 0.16 Acc: 0.92\n",
      "\n",
      "Epoch 3/3\n"
     ]
    },
    {
     "name": "stderr",
     "output_type": "stream",
     "text": [
      "Training: 100%|██████████████████████████████████████████████████████████████████████| 167/167 [00:49<00:00,  3.35it/s]\n"
     ]
    },
    {
     "name": "stdout",
     "output_type": "stream",
     "text": [
      "[MobileNet] Fold 2, Epoch 3: Train Loss: 0.09 Acc: 0.97\n",
      "[MobileNet] Fold 2, Epoch 3: Validation Loss: 0.08 Acc: 0.97\n",
      "\n",
      "Best model for MobileNet (Fold 2) saved at: bestmodelsV4\\fold2\\MobileNet_2024-12-27_02-05-36.pth\n",
      "Fold 3/3\n",
      "Epoch 1/3\n"
     ]
    },
    {
     "name": "stderr",
     "output_type": "stream",
     "text": [
      "Training: 100%|██████████████████████████████████████████████████████████████████████| 167/167 [12:21<00:00,  4.44s/it]\n"
     ]
    },
    {
     "name": "stdout",
     "output_type": "stream",
     "text": [
      "[VGG16] Fold 3, Epoch 1: Train Loss: 0.44 Acc: 0.79\n",
      "[VGG16] Fold 3, Epoch 1: Validation Loss: 0.29 Acc: 0.87\n",
      "\n",
      "Epoch 2/3\n"
     ]
    },
    {
     "name": "stderr",
     "output_type": "stream",
     "text": [
      "Training: 100%|██████████████████████████████████████████████████████████████████████| 167/167 [12:18<00:00,  4.42s/it]\n"
     ]
    },
    {
     "name": "stdout",
     "output_type": "stream",
     "text": [
      "[VGG16] Fold 3, Epoch 2: Train Loss: 0.17 Acc: 0.93\n",
      "[VGG16] Fold 3, Epoch 2: Validation Loss: 0.10 Acc: 0.96\n",
      "\n",
      "Epoch 3/3\n"
     ]
    },
    {
     "name": "stderr",
     "output_type": "stream",
     "text": [
      "Training: 100%|██████████████████████████████████████████████████████████████████████| 167/167 [12:20<00:00,  4.43s/it]\n"
     ]
    },
    {
     "name": "stdout",
     "output_type": "stream",
     "text": [
      "[VGG16] Fold 3, Epoch 3: Train Loss: 0.08 Acc: 0.97\n",
      "[VGG16] Fold 3, Epoch 3: Validation Loss: 0.12 Acc: 0.96\n",
      "\n",
      "Best model for VGG16 (Fold 3) saved at: bestmodelsV4\\fold3\\VGG16_2024-12-27_02-50-07.pth\n",
      "Epoch 1/3\n"
     ]
    },
    {
     "name": "stderr",
     "output_type": "stream",
     "text": [
      "Training: 100%|██████████████████████████████████████████████████████████████████████| 167/167 [12:36<00:00,  4.53s/it]\n"
     ]
    },
    {
     "name": "stdout",
     "output_type": "stream",
     "text": [
      "[ResNet-50] Fold 3, Epoch 1: Train Loss: 0.69 Acc: 0.63\n",
      "[ResNet-50] Fold 3, Epoch 1: Validation Loss: 0.91 Acc: 0.33\n",
      "\n",
      "Epoch 2/3\n"
     ]
    },
    {
     "name": "stderr",
     "output_type": "stream",
     "text": [
      "Training: 100%|██████████████████████████████████████████████████████████████████████| 167/167 [12:47<00:00,  4.59s/it]\n"
     ]
    },
    {
     "name": "stdout",
     "output_type": "stream",
     "text": [
      "[ResNet-50] Fold 3, Epoch 2: Train Loss: 0.37 Acc: 0.84\n",
      "[ResNet-50] Fold 3, Epoch 2: Validation Loss: 0.18 Acc: 0.93\n",
      "\n",
      "Epoch 3/3\n"
     ]
    },
    {
     "name": "stderr",
     "output_type": "stream",
     "text": [
      "Training: 100%|██████████████████████████████████████████████████████████████████████| 167/167 [12:39<00:00,  4.55s/it]\n"
     ]
    },
    {
     "name": "stdout",
     "output_type": "stream",
     "text": [
      "[ResNet-50] Fold 3, Epoch 3: Train Loss: 0.23 Acc: 0.91\n",
      "[ResNet-50] Fold 3, Epoch 3: Validation Loss: 0.41 Acc: 0.86\n",
      "\n",
      "Best model for ResNet-50 (Fold 3) saved at: bestmodelsV4\\fold3\\ResNet-50_2024-12-27_03-34-45.pth\n",
      "Epoch 1/3\n"
     ]
    },
    {
     "name": "stderr",
     "output_type": "stream",
     "text": [
      "Training: 100%|██████████████████████████████████████████████████████████████████████| 167/167 [11:29<00:00,  4.13s/it]\n"
     ]
    },
    {
     "name": "stdout",
     "output_type": "stream",
     "text": [
      "[DenseNet121] Fold 3, Epoch 1: Train Loss: 0.36 Acc: 0.84\n",
      "[DenseNet121] Fold 3, Epoch 1: Validation Loss: 0.25 Acc: 0.90\n",
      "\n",
      "Epoch 2/3\n"
     ]
    },
    {
     "name": "stderr",
     "output_type": "stream",
     "text": [
      "Training: 100%|██████████████████████████████████████████████████████████████████████| 167/167 [11:54<00:00,  4.28s/it]\n"
     ]
    },
    {
     "name": "stdout",
     "output_type": "stream",
     "text": [
      "[DenseNet121] Fold 3, Epoch 2: Train Loss: 0.15 Acc: 0.94\n",
      "[DenseNet121] Fold 3, Epoch 2: Validation Loss: 0.10 Acc: 0.97\n",
      "\n",
      "Epoch 3/3\n"
     ]
    },
    {
     "name": "stderr",
     "output_type": "stream",
     "text": [
      "Training: 100%|██████████████████████████████████████████████████████████████████████| 167/167 [12:50<00:00,  4.62s/it]\n"
     ]
    },
    {
     "name": "stdout",
     "output_type": "stream",
     "text": [
      "[DenseNet121] Fold 3, Epoch 3: Train Loss: 0.11 Acc: 0.96\n",
      "[DenseNet121] Fold 3, Epoch 3: Validation Loss: 0.58 Acc: 0.78\n",
      "\n",
      "Best model for DenseNet121 (Fold 3) saved at: bestmodelsV4\\fold3\\DenseNet121_2024-12-27_04-11-58.pth\n",
      "Epoch 1/3\n"
     ]
    },
    {
     "name": "stderr",
     "output_type": "stream",
     "text": [
      "Training: 100%|██████████████████████████████████████████████████████████████████████| 167/167 [00:50<00:00,  3.30it/s]\n"
     ]
    },
    {
     "name": "stdout",
     "output_type": "stream",
     "text": [
      "[MobileNet] Fold 3, Epoch 1: Train Loss: 0.61 Acc: 0.78\n",
      "[MobileNet] Fold 3, Epoch 1: Validation Loss: 0.49 Acc: 0.80\n",
      "\n",
      "Epoch 2/3\n"
     ]
    },
    {
     "name": "stderr",
     "output_type": "stream",
     "text": [
      "Training: 100%|██████████████████████████████████████████████████████████████████████| 167/167 [00:54<00:00,  3.08it/s]\n"
     ]
    },
    {
     "name": "stdout",
     "output_type": "stream",
     "text": [
      "[MobileNet] Fold 3, Epoch 2: Train Loss: 0.19 Acc: 0.93\n",
      "[MobileNet] Fold 3, Epoch 2: Validation Loss: 0.05 Acc: 0.98\n",
      "\n",
      "Epoch 3/3\n"
     ]
    },
    {
     "name": "stderr",
     "output_type": "stream",
     "text": [
      "Training: 100%|██████████████████████████████████████████████████████████████████████| 167/167 [00:56<00:00,  2.96it/s]\n"
     ]
    },
    {
     "name": "stdout",
     "output_type": "stream",
     "text": [
      "[MobileNet] Fold 3, Epoch 3: Train Loss: 0.11 Acc: 0.96\n",
      "[MobileNet] Fold 3, Epoch 3: Validation Loss: 0.06 Acc: 0.98\n",
      "\n",
      "Best model for MobileNet (Fold 3) saved at: bestmodelsV4\\fold3\\MobileNet_2024-12-27_04-15-25.pth\n"
     ]
    }
   ],
   "source": [
    "results = {model_name: [] for model_name in our_models}\n",
    "train_val_hist = []\n",
    "\n",
    "for fold, (train_idx, test_idx) in enumerate(kf.split(dataset)):\n",
    "    print(f\"Fold {fold+1}/{n_splits}\")\n",
    "\n",
    "    train_set = Subset(dataset, train_idx)\n",
    "    test_set = Subset(dataset, test_idx)\n",
    "    val_split = int(len(train_set) * 0.8)\n",
    "    val_set = Subset(train_set, range(val_split, len(train_set)))\n",
    "    train_set = Subset(train_set, range(0, val_split))\n",
    "\n",
    "    train_loader = DataLoader(train_set, batch_size=32, shuffle=True)\n",
    "    val_loader = DataLoader(val_set, batch_size=32, shuffle=False)\n",
    "    test_loader = DataLoader(test_set, batch_size=32, shuffle=False)\n",
    "    \n",
    "    for model_name in our_models:\n",
    "        num_classes = len(dataset.classes)\n",
    "        \n",
    "        # Initializing the model every time ensures that no previous model parameters are retained\n",
    "        model = initialize_model(model_name, num_classes)\n",
    "\n",
    "        # getting best lr for each model\n",
    "        l_r = get_learning_rate(model_name)\n",
    "\n",
    "        criterion = torch.nn.CrossEntropyLoss()\n",
    "        optimizer = Adam(model.parameters(), lr=l_r) \n",
    "\n",
    "        model , train_val_history = train_validate_model(model, criterion, optimizer, train_loader, val_loader, fold, model_name, num_epochs=3)\n",
    "        train_val_hist.append(train_val_history)\n",
    "        \n",
    "        # Test the model\n",
    "        model.eval()\n",
    "        y_true, y_pred = [], []\n",
    "        with torch.no_grad():\n",
    "            for images, labels in test_loader:\n",
    "                images, labels = images.cuda(), labels.cuda() if torch.cuda.is_available() else (images, labels)\n",
    "                outputs = model(images)\n",
    "                y_true.extend(labels.cpu().numpy())\n",
    "                y_pred.extend(outputs.argmax(1).cpu().numpy())\n",
    "\n",
    "        cm, acc, prec, rec, f1 = performance_matrix(y_true, y_pred)\n",
    "\n",
    "        results[model_name].append({\n",
    "            \"confusion_matrix\": cm,\n",
    "            \"accuracy\": acc,\n",
    "            \"precision\": prec,\n",
    "            \"recall\": rec,\n",
    "            \"f1_score\": f1\n",
    "        })"
   ]
  },
  {
   "cell_type": "code",
   "execution_count": 42,
   "id": "119da6ef-adf4-407f-9129-3b26d86b8a45",
   "metadata": {},
   "outputs": [
    {
     "name": "stdout",
     "output_type": "stream",
     "text": [
      "Results for VGG16:\n",
      "  Fold 1:\n",
      "    Confusion Matrix:\n",
      "[[1452  240]\n",
      " [  15 1627]]\n",
      "    Accuracy: 0.9235\n",
      "    Precision: 0.9315\n",
      "    Recall: 0.9235\n",
      "    F1 Score: 0.9232\n",
      "  Fold 2:\n",
      "    Confusion Matrix:\n",
      "[[1634   64]\n",
      " [  34 1601]]\n",
      "    Accuracy: 0.9706\n",
      "    Precision: 0.9708\n",
      "    Recall: 0.9706\n",
      "    F1 Score: 0.9706\n",
      "  Fold 3:\n",
      "    Confusion Matrix:\n",
      "[[1524   86]\n",
      " [  90 1633]]\n",
      "    Accuracy: 0.9472\n",
      "    Precision: 0.9472\n",
      "    Recall: 0.9472\n",
      "    F1 Score: 0.9472\n",
      "  Averages:\n",
      "    Accuracy: 0.9471\n",
      "    Precision: 0.9498\n",
      "    Recall: 0.9471\n",
      "    F1 Score: 0.9470\n",
      "Results for ResNet-50:\n",
      "  Fold 1:\n",
      "    Confusion Matrix:\n",
      "[[1488  204]\n",
      " [ 100 1542]]\n",
      "    Accuracy: 0.9088\n",
      "    Precision: 0.9105\n",
      "    Recall: 0.9088\n",
      "    F1 Score: 0.9088\n",
      "  Fold 2:\n",
      "    Confusion Matrix:\n",
      "[[1504  194]\n",
      " [  98 1537]]\n",
      "    Accuracy: 0.9124\n",
      "    Precision: 0.9139\n",
      "    Recall: 0.9124\n",
      "    F1 Score: 0.9124\n",
      "  Fold 3:\n",
      "    Confusion Matrix:\n",
      "[[1527   83]\n",
      " [ 275 1448]]\n",
      "    Accuracy: 0.8926\n",
      "    Precision: 0.8983\n",
      "    Recall: 0.8926\n",
      "    F1 Score: 0.8924\n",
      "  Averages:\n",
      "    Accuracy: 0.9046\n",
      "    Precision: 0.9075\n",
      "    Recall: 0.9046\n",
      "    F1 Score: 0.9045\n",
      "Results for DenseNet121:\n",
      "  Fold 1:\n",
      "    Confusion Matrix:\n",
      "[[1679   13]\n",
      " [ 467 1175]]\n",
      "    Accuracy: 0.8560\n",
      "    Precision: 0.8842\n",
      "    Recall: 0.8560\n",
      "    F1 Score: 0.8530\n",
      "  Fold 2:\n",
      "    Confusion Matrix:\n",
      "[[1681   17]\n",
      " [ 363 1272]]\n",
      "    Accuracy: 0.8860\n",
      "    Precision: 0.9031\n",
      "    Recall: 0.8860\n",
      "    F1 Score: 0.8845\n",
      "  Fold 3:\n",
      "    Confusion Matrix:\n",
      "[[1557   53]\n",
      " [ 384 1339]]\n",
      "    Accuracy: 0.8689\n",
      "    Precision: 0.8848\n",
      "    Recall: 0.8689\n",
      "    F1 Score: 0.8680\n",
      "  Averages:\n",
      "    Accuracy: 0.8703\n",
      "    Precision: 0.8907\n",
      "    Recall: 0.8703\n",
      "    F1 Score: 0.8685\n",
      "Results for MobileNet:\n",
      "  Fold 1:\n",
      "    Confusion Matrix:\n",
      "[[1610   82]\n",
      " [  61 1581]]\n",
      "    Accuracy: 0.9571\n",
      "    Precision: 0.9572\n",
      "    Recall: 0.9571\n",
      "    F1 Score: 0.9571\n",
      "  Fold 2:\n",
      "    Confusion Matrix:\n",
      "[[1598  100]\n",
      " [  54 1581]]\n",
      "    Accuracy: 0.9538\n",
      "    Precision: 0.9542\n",
      "    Recall: 0.9538\n",
      "    F1 Score: 0.9538\n",
      "  Fold 3:\n",
      "    Confusion Matrix:\n",
      "[[1449  161]\n",
      " [  29 1694]]\n",
      "    Accuracy: 0.9430\n",
      "    Precision: 0.9457\n",
      "    Recall: 0.9430\n",
      "    F1 Score: 0.9428\n",
      "  Averages:\n",
      "    Accuracy: 0.9513\n",
      "    Precision: 0.9523\n",
      "    Recall: 0.9513\n",
      "    F1 Score: 0.9512\n"
     ]
    }
   ],
   "source": [
    "for model_name, metrics in results.items():\n",
    "    print(f\"Results for {model_name}:\")\n",
    "    for fold_idx, fold_metrics in enumerate(metrics):\n",
    "        print(f\"  Fold {fold_idx+1}:\")\n",
    "        print(f\"    Confusion Matrix:\\n{fold_metrics['confusion_matrix']}\")\n",
    "        print(f\"    Accuracy: {fold_metrics['accuracy']:.4f}\")\n",
    "        print(f\"    Precision: {fold_metrics['precision']:.4f}\")\n",
    "        print(f\"    Recall: {fold_metrics['recall']:.4f}\")\n",
    "        print(f\"    F1 Score: {fold_metrics['f1_score']:.4f}\")\n",
    "\n",
    "    # Calculate averages\n",
    "    avg_acc = np.mean([m[\"accuracy\"] for m in metrics])\n",
    "    avg_prec = np.mean([m[\"precision\"] for m in metrics])\n",
    "    avg_rec = np.mean([m[\"recall\"] for m in metrics])\n",
    "    avg_f1 = np.mean([m[\"f1_score\"] for m in metrics])\n",
    "\n",
    "    print(f\"  Averages:\")\n",
    "    print(f\"    Accuracy: {avg_acc:.4f}\")\n",
    "    print(f\"    Precision: {avg_prec:.4f}\")\n",
    "    print(f\"    Recall: {avg_rec:.4f}\")\n",
    "    print(f\"    F1 Score: {avg_f1:.4f}\")"
   ]
  },
  {
   "cell_type": "code",
   "execution_count": 43,
   "id": "d711dd2f-8c72-4268-b422-699efb87d07e",
   "metadata": {},
   "outputs": [
    {
     "name": "stdout",
     "output_type": "stream",
     "text": [
      "Results for VGG16:\n"
     ]
    },
    {
     "data": {
      "image/png": "[encoded data removed]",
      "text/plain": [
       "<Figure size 800x600 with 2 Axes>"
      ]
     },
     "metadata": {},
     "output_type": "display_data"
    },
    {
     "name": "stdout",
     "output_type": "stream",
     "text": [
      "Results for ResNet-50:\n"
     ]
    },
    {
     "data": {
      "image/png": "[encoded data removed]",
      "text/plain": [
       "<Figure size 800x600 with 2 Axes>"
      ]
     },
     "metadata": {},
     "output_type": "display_data"
    },
    {
     "name": "stdout",
     "output_type": "stream",
     "text": [
      "Results for DenseNet121:\n"
     ]
    },
    {
     "data": {
      "image/png": "[encoded data removed]",
      "text/plain": [
       "<Figure size 800x600 with 2 Axes>"
      ]
     },
     "metadata": {},
     "output_type": "display_data"
    },
    {
     "name": "stdout",
     "output_type": "stream",
     "text": [
      "Results for MobileNet:\n"
     ]
    },
    {
     "data": {
      "image/png": "[encoded data removed]",
      "text/plain": [
       "<Figure size 800x600 with 2 Axes>"
      ]
     },
     "metadata": {},
     "output_type": "display_data"
    }
   ],
   "source": [
    "class_names = dataset.classes  \n",
    "\n",
    "for model_name, metrics in results.items():\n",
    "    print(f\"Results for {model_name}:\")\n",
    "    sum_of_cms = 0\n",
    "    for fold_idx, fold_metrics in enumerate(metrics):\n",
    "        sum_of_cms+= fold_metrics['confusion_matrix']\n",
    "        \n",
    "    plot_heatmap(sum_of_cms, class_names, model_name)"
   ]
  },
  {
   "cell_type": "code",
   "execution_count": 44,
   "id": "8cb50f52-6db3-4fa1-9e18-cf073c3d713e",
   "metadata": {},
   "outputs": [
    {
     "data": {
      "image/png": "[encoded data removed]",
      "text/plain": [
       "<Figure size 1000x600 with 1 Axes>"
      ]
     },
     "metadata": {},
     "output_type": "display_data"
    }
   ],
   "source": [
    "models = list(results.keys())\n",
    "metrics = [\"accuracy\", \"precision\", \"recall\", \"f1_score\"]\n",
    "avg_metrics = {model: [\n",
    "    np.mean([fold[metric] for fold in results[model]]) for metric in metrics\n",
    "] for model in models}\n",
    "fold_metrics = {model: [\n",
    "    [fold[metric] for metric in metrics] for fold in results[model]\n",
    "] for model in models}\n",
    "conf_matrices = {model: [\n",
    "    np.array(fold[\"confusion_matrix\"]) for fold in results[model]\n",
    "] for model in models}\n",
    "\n",
    "plt.figure(figsize=(10, 6))\n",
    "x = np.arange(len(metrics))\n",
    "width = 0.2\n",
    "\n",
    "for i, model in enumerate(models):\n",
    "    plt.bar(x + i * width, avg_metrics[model], width, label=model)\n",
    "\n",
    "plt.xticks(x + width, metrics)\n",
    "plt.ylabel('Score')\n",
    "plt.title('Average Performance Metrics by Model')\n",
    "plt.legend()\n",
    "plt.grid(axis='y', linestyle='--', alpha=0.7)\n",
    "plt.tight_layout()\n",
    "plt.show()"
   ]
  },
  {
   "cell_type": "markdown",
   "id": "b751007e-4163-42b1-8d03-066f52b78488",
   "metadata": {},
   "source": [
    "# apply pretrained vision transformer on your dataset"
   ]
  },
  {
   "cell_type": "markdown",
   "id": "0b621b56-9459-4625-942f-dacb17b1fbfd",
   "metadata": {},
   "source": [
    "pretrained Vision Transformer is a neural network model designed for image classification tasks, inspired by the Transformer architecture initially developed for natural language processing. The model is pretrained on large datasets (e.g., ImageNet) to learn visual representations, which can then be fine-tuned for specific downstream tasks."
   ]
  },
  {
   "cell_type": "code",
   "execution_count": 45,
   "id": "92743df2-d62e-43c5-8b5f-e3b40c8b4992",
   "metadata": {},
   "outputs": [
    {
     "name": "stdout",
     "output_type": "stream",
     "text": [
      "Collecting timm\n",
      "  Downloading timm-1.0.12-py3-none-any.whl.metadata (51 kB)\n",
      "Requirement already satisfied: torch in c:\\users\\menam\\anaconda3\\lib\\site-packages (from timm) (2.5.0+cu124)\n",
      "Requirement already satisfied: torchvision in c:\\users\\menam\\anaconda3\\lib\\site-packages (from timm) (0.20.0+cu124)\n",
      "Requirement already satisfied: pyyaml in c:\\users\\menam\\anaconda3\\lib\\site-packages (from timm) (6.0.1)\n",
      "Collecting huggingface_hub (from timm)\n",
      "  Downloading huggingface_hub-0.27.0-py3-none-any.whl.metadata (13 kB)\n",
      "Collecting safetensors (from timm)\n",
      "  Downloading safetensors-0.4.5-cp312-none-win_amd64.whl.metadata (3.9 kB)\n",
      "Requirement already satisfied: filelock in c:\\users\\menam\\anaconda3\\lib\\site-packages (from huggingface_hub->timm) (3.13.1)\n",
      "Requirement already satisfied: fsspec>=2023.5.0 in c:\\users\\menam\\anaconda3\\lib\\site-packages (from huggingface_hub->timm) (2024.6.1)\n",
      "Requirement already satisfied: packaging>=20.9 in c:\\users\\menam\\anaconda3\\lib\\site-packages (from huggingface_hub->timm) (24.1)\n",
      "Requirement already satisfied: requests in c:\\users\\menam\\anaconda3\\lib\\site-packages (from huggingface_hub->timm) (2.32.3)\n",
      "Requirement already satisfied: tqdm>=4.42.1 in c:\\users\\menam\\anaconda3\\lib\\site-packages (from huggingface_hub->timm) (4.66.5)\n",
      "Requirement already satisfied: typing-extensions>=3.7.4.3 in c:\\users\\menam\\anaconda3\\lib\\site-packages (from huggingface_hub->timm) (4.11.0)\n",
      "Requirement already satisfied: networkx in c:\\users\\menam\\anaconda3\\lib\\site-packages (from torch->timm) (3.3)\n",
      "Requirement already satisfied: jinja2 in c:\\users\\menam\\anaconda3\\lib\\site-packages (from torch->timm) (3.1.4)\n",
      "Requirement already satisfied: setuptools in c:\\users\\menam\\anaconda3\\lib\\site-packages (from torch->timm) (75.1.0)\n",
      "Requirement already satisfied: sympy==1.13.1 in c:\\users\\menam\\anaconda3\\lib\\site-packages (from torch->timm) (1.13.1)\n",
      "Requirement already satisfied: mpmath<1.4,>=1.1.0 in c:\\users\\menam\\anaconda3\\lib\\site-packages (from sympy==1.13.1->torch->timm) (1.3.0)\n",
      "Requirement already satisfied: numpy in c:\\users\\menam\\anaconda3\\lib\\site-packages (from torchvision->timm) (1.26.4)\n",
      "Requirement already satisfied: pillow!=8.3.*,>=5.3.0 in c:\\users\\menam\\anaconda3\\lib\\site-packages (from torchvision->timm) (10.4.0)\n",
      "Requirement already satisfied: colorama in c:\\users\\menam\\anaconda3\\lib\\site-packages (from tqdm>=4.42.1->huggingface_hub->timm) (0.4.6)\n",
      "Requirement already satisfied: MarkupSafe>=2.0 in c:\\users\\menam\\anaconda3\\lib\\site-packages (from jinja2->torch->timm) (2.1.3)\n",
      "Requirement already satisfied: charset-normalizer<4,>=2 in c:\\users\\menam\\anaconda3\\lib\\site-packages (from requests->huggingface_hub->timm) (3.3.2)\n",
      "Requirement already satisfied: idna<4,>=2.5 in c:\\users\\menam\\anaconda3\\lib\\site-packages (from requests->huggingface_hub->timm) (3.7)\n",
      "Requirement already satisfied: urllib3<3,>=1.21.1 in c:\\users\\menam\\anaconda3\\lib\\site-packages (from requests->huggingface_hub->timm) (2.2.3)\n",
      "Requirement already satisfied: certifi>=2017.4.17 in c:\\users\\menam\\anaconda3\\lib\\site-packages (from requests->huggingface_hub->timm) (2024.8.30)\n",
      "Downloading timm-1.0.12-py3-none-any.whl (2.4 MB)\n",
      "   ---------------------------------------- 0.0/2.4 MB ? eta -:--:--\n",
      "   -------- ------------------------------- 0.5/2.4 MB 4.2 MB/s eta 0:00:01\n",
      "   ---------------------- ----------------- 1.3/2.4 MB 3.4 MB/s eta 0:00:01\n",
      "   ----------------------------------- ---- 2.1/2.4 MB 3.8 MB/s eta 0:00:01\n",
      "   ---------------------------------------- 2.4/2.4 MB 3.7 MB/s eta 0:00:00\n",
      "Downloading huggingface_hub-0.27.0-py3-none-any.whl (450 kB)\n",
      "Downloading safetensors-0.4.5-cp312-none-win_amd64.whl (286 kB)\n",
      "Installing collected packages: safetensors, huggingface_hub, timm\n",
      "Successfully installed huggingface_hub-0.27.0 safetensors-0.4.5 timm-1.0.12\n"
     ]
    }
   ],
   "source": [
    "!pip install timm"
   ]
  },
  {
   "cell_type": "code",
   "execution_count": 46,
   "id": "91e79e22-9dcc-411d-9710-dc5b7a70efc9",
   "metadata": {},
   "outputs": [],
   "source": [
    "import timm\n",
    "import torch\n",
    "import torch.nn as nn\n",
    "from torch.utils.data import DataLoader"
   ]
  },
  {
   "cell_type": "code",
   "execution_count": 47,
   "id": "b976ce8c-df75-459a-a00e-bba71a14bcfd",
   "metadata": {},
   "outputs": [],
   "source": [
    "def train_model(model, train_loader, val_loader, lr, num_epoch=2):\n",
    "    criterion = torch.nn.CrossEntropyLoss()\n",
    "    optimizer = Adam(model.parameters(), lr=lr)\n",
    "    device = torch.device('cuda' if torch.cuda.is_available() else 'cpu')\n",
    "    model.to(device)\n",
    "\n",
    "    for epoch in range(num_epoch):  \n",
    "        model.train()\n",
    "        for batch in train_loader:\n",
    "            images, labels = batch\n",
    "            images, labels = images.to(device), labels.to(device)\n",
    "            \n",
    "            optimizer.zero_grad()\n",
    "            outputs = model(images)\n",
    "            loss = criterion(outputs, labels)\n",
    "            loss.backward()\n",
    "            optimizer.step()\n",
    "        \n",
    "        # Validation\n",
    "        model.eval()\n",
    "        val_loss = 0.0\n",
    "        correct = 0\n",
    "        total = 0\n",
    "        with torch.no_grad():\n",
    "            for batch in val_loader:\n",
    "                images, labels = batch\n",
    "                images, labels = images.to(device), labels.to(device)\n",
    "                \n",
    "                outputs = model(images)\n",
    "                loss = criterion(outputs, labels)\n",
    "                val_loss += loss.item()\n",
    "                \n",
    "                _, predicted = outputs.max(1)\n",
    "                total += labels.size(0)\n",
    "                correct += (predicted == labels).sum().item()\n",
    "        \n",
    "        val_loss /= len(val_loader)\n",
    "        val_acc = 100 * correct / total\n",
    "        \n",
    "        print(f\"Epoch {epoch+1}, Val Loss: {val_loss / len(val_loader)}, Val Acc: {100 * correct / total}%\")\n",
    "    return model, val_loss, val_acc"
   ]
  },
  {
   "cell_type": "markdown",
   "id": "c143e819-c11f-419f-85de-093f96be1c3c",
   "metadata": {},
   "source": [
    "## load the dataset loaders"
   ]
  },
  {
   "cell_type": "code",
   "execution_count": 48,
   "id": "79e7bd35-4855-4872-baa2-ae4b75d004a6",
   "metadata": {},
   "outputs": [],
   "source": [
    "train_set = Subset(dataset, train_idx)\n",
    "test_set = Subset(dataset, test_idx)\n",
    "val_split = int(len(train_set) * 0.8)\n",
    "val_set = Subset(train_set, range(val_split, len(train_set)))\n",
    "train_set = Subset(train_set, range(0, val_split))\n",
    "\n",
    "train_loader = DataLoader(train_set, batch_size=32, shuffle=True)\n",
    "val_loader = DataLoader(val_set, batch_size=32, shuffle=False)\n",
    "test_loader = DataLoader(test_set, batch_size=32, shuffle=False)"
   ]
  },
  {
   "cell_type": "markdown",
   "id": "5ede7bd5-e7fe-4272-a31a-0a9b7bffb5db",
   "metadata": {},
   "source": [
    "## Load a pretrained ViT model "
   ]
  },
  {
   "cell_type": "code",
   "execution_count": 49,
   "id": "acf079e9-cd94-40a0-a06b-0e2d9f3a14ef",
   "metadata": {},
   "outputs": [
    {
     "data": {
      "application/vnd.jupyter.widget-view+json": {
       "model_id": "092b252b3c6d42db8e3d76ad55b0cc8f",
       "version_major": 2,
       "version_minor": 0
      },
      "text/plain": [
       "model.safetensors:   0%|          | 0.00/346M [00:00<?, ?B/s]"
      ]
     },
     "metadata": {},
     "output_type": "display_data"
    },
    {
     "name": "stderr",
     "output_type": "stream",
     "text": [
      "C:\\Users\\menam\\anaconda3\\Lib\\site-packages\\huggingface_hub\\file_download.py:140: UserWarning: `huggingface_hub` cache-system uses symlinks by default to efficiently store duplicated files but your machine does not support them in C:\\Users\\menam\\.cache\\huggingface\\hub\\models--timm--vit_base_patch16_224.augreg2_in21k_ft_in1k. Caching files will still work but in a degraded version that might require more space on your disk. This warning can be disabled by setting the `HF_HUB_DISABLE_SYMLINKS_WARNING` environment variable. For more details, see https://huggingface.co/docs/huggingface_hub/how-to-cache#limitations.\n",
      "To support symlinks on Windows, you either need to activate Developer Mode or to run Python as an administrator. In order to activate developer mode, see this article: https://docs.microsoft.com/en-us/windows/apps/get-started/enable-your-device-for-development\n",
      "  warnings.warn(message)\n"
     ]
    }
   ],
   "source": [
    "model = timm.create_model('vit_base_patch16_224', pretrained=True)"
   ]
  },
  {
   "cell_type": "markdown",
   "id": "0f01d9b2-f11c-4dcb-82e9-343066df591a",
   "metadata": {},
   "source": [
    "## Modify the Model to match our face detection dataset"
   ]
  },
  {
   "cell_type": "code",
   "execution_count": 50,
   "id": "50a18336-2d2b-4fc0-b6d0-cbf9e007a0c4",
   "metadata": {},
   "outputs": [],
   "source": [
    "class_names = dataset.classes  \n",
    "model.head = nn.Linear(model.head.in_features, num_classes)"
   ]
  },
  {
   "cell_type": "code",
   "execution_count": 53,
   "id": "58c91ec2-abbc-478a-9eca-9b4a56beb37b",
   "metadata": {},
   "outputs": [
    {
     "name": "stdout",
     "output_type": "stream",
     "text": [
      "Epoch 1, Val Loss: 0.005711533159308997, Val Acc: 92.35382308845577%\n",
      "Epoch 2, Val Loss: 0.010067563737339242, Val Acc: 89.05547226386807%\n",
      "Epoch 3, Val Loss: 0.009496799764136811, Val Acc: 90.10494752623688%\n"
     ]
    }
   ],
   "source": [
    "num_epochs = 3\n",
    "lr = 1e-5\n",
    "rained_model, val_loss, val_acc = train_model(model, train_loader, val_loader, lr, num_epochs)"
   ]
  },
  {
   "cell_type": "code",
   "execution_count": 59,
   "id": "668764d0-b06f-4788-aded-99a772ffacdc",
   "metadata": {},
   "outputs": [
    {
     "name": "stdout",
     "output_type": "stream",
     "text": [
      "val loss: 0.40\n",
      "val acc: 90.10\n"
     ]
    }
   ],
   "source": [
    "print(f\"val loss: {val_loss:.2f}\")\n",
    "print(f\"val acc: {val_acc:.2f}\")"
   ]
  },
  {
   "cell_type": "code",
   "execution_count": 62,
   "id": "6bb6b33e-dfd9-4644-9a05-bb34968de2c3",
   "metadata": {},
   "outputs": [],
   "source": [
    "def test_model(model, test_loader):\n",
    "    results = []\n",
    "    # Test the model\n",
    "    model.eval()\n",
    "    y_true, y_pred = [], []\n",
    "    with torch.no_grad():\n",
    "        for images, labels in test_loader:\n",
    "            images, labels = images.cuda(), labels.cuda() if torch.cuda.is_available() else (images, labels)\n",
    "            outputs = model(images)\n",
    "            y_true.extend(labels.cpu().numpy())\n",
    "            y_pred.extend(outputs.argmax(1).cpu().numpy())\n",
    "    \n",
    "    cm, acc, prec, rec, f1 = performance_matrix(y_true, y_pred)\n",
    "    \n",
    "    results.append({ \n",
    "        \"confusion_matrix\": cm, \n",
    "        \"accuracy\": acc, \n",
    "        \"precision\": prec, \n",
    "        \"recall\": rec, \n",
    "        \"f1_score\": f1\n",
    "    })\n",
    "    return results\n",
    "\n",
    "res = test_model(rained_model, test_loader)"
   ]
  },
  {
   "cell_type": "code",
   "execution_count": 63,
   "id": "19057b45-f135-4a04-b043-f3531c7114ed",
   "metadata": {},
   "outputs": [
    {
     "name": "stdout",
     "output_type": "stream",
     "text": [
      "[{'confusion_matrix': array([[1554,   56],\n",
      "       [ 165, 1558]], dtype=int64), 'accuracy': 0.9336933693369337, 'precision': 0.935697740738865, 'recall': 0.9336933693369337, 'f1_score': 0.9336959717333215}]\n"
     ]
    }
   ],
   "source": [
    "print(res)"
   ]
  },
  {
   "cell_type": "code",
   "execution_count": 66,
   "id": "530b90ec-74d8-4291-8013-303709cbdf11",
   "metadata": {},
   "outputs": [
    {
     "name": "stdout",
     "output_type": "stream",
     "text": [
      "Results for vit\n"
     ]
    },
    {
     "data": {
      "image/png": "[encoded data removed]",
      "text/plain": [
       "<Figure size 800x600 with 2 Axes>"
      ]
     },
     "metadata": {},
     "output_type": "display_data"
    }
   ],
   "source": [
    "class_names = dataset.classes  \n",
    "\n",
    "print(\"Results for vit\")\n",
    "sum_of_cms = res[0]['confusion_matrix']\n",
    "plot_heatmap(sum_of_cms, class_names, \"vit\")"
   ]
  },
  {
   "cell_type": "code",
   "execution_count": 75,
   "id": "5d27fee0-91bf-49b8-be50-ac101de3814d",
   "metadata": {},
   "outputs": [
    {
     "data": {
      "image/png": "[encoded data removed]",
      "text/plain": [
       "<Figure size 1000x600 with 1 Axes>"
      ]
     },
     "metadata": {},
     "output_type": "display_data"
    }
   ],
   "source": [
    "accuracy = res[0]['accuracy']\n",
    "precision = res[0]['precision']\n",
    "recall = res[0]['recall']\n",
    "f1_score = res[0]['f1_score']\n",
    "\n",
    "x = np.arange(len(metrics))\n",
    "width = 0.3\n",
    "\n",
    "# Plotting the metrics\n",
    "metrics = [f'Accuracy = {accuracy:.2f}', f'Precision = {precision:.2f}', f'Recall = {recall:.2f}', f'F1 Score = {f1_score:.2f}']\n",
    "values = [accuracy, precision, recall, f1_score]\n",
    "\n",
    "plt.figure(figsize=(10, 6))\n",
    "plt.bar(metrics, values, width)\n",
    "plt.ylim(0, 1)\n",
    "plt.ylabel('Scores')\n",
    "plt.title('Model Performance Metrics')\n",
    "#plt.legend()\n",
    "plt.grid(axis='y', linestyle='--', alpha=0.7)\n",
    "plt.tight_layout()\n",
    "plt.show()"
   ]
  }
 ],
 "metadata": {
  "kernelspec": {
   "display_name": "Python 3 (ipykernel)",
   "language": "python",
   "name": "python3"
  },
  "language_info": {
   "codemirror_mode": {
    "name": "ipython",
    "version": 3
   },
   "file_extension": ".py",
   "mimetype": "text/x-python",
   "name": "python",
   "nbconvert_exporter": "python",
   "pygments_lexer": "ipython3",
   "version": "3.12.7"
  }
 },
 "nbformat": 4,
 "nbformat_minor": 5
}
